{
 "cells": [
  {
   "cell_type": "markdown",
   "id": "5666d7d1-3166-4cad-b7db-0e1c045bab97",
   "metadata": {},
   "source": [
    "# Seasonal Effects on Female Red-Billed Gull Size in New Zealand.\n",
    "**Prepared by Group 4: Arnab Das, Maggie Wang, Paul Zeng, Dylan Zhang**"
   ]
  },
  {
   "cell_type": "markdown",
   "id": "56ff44c8-35a4-47ac-bf73-27c2ccee8996",
   "metadata": {},
   "source": [
    "## Introduction\n",
    "The red-billed gull is the most common gull on the New Zealand coast. It is frequently seen in coastal towns, garbage dumps, and at fish processing facilities (Red-billed gull: Tarāpunga, n.d.). We would like to find the differences in means of the weights and lengths of the female red-billed gull based on the two season climates. We believe that the primary and underlying cause of the size variations within a year for the red-billed gulls lies in the seasonal effects that bring about change in various aspects of their habits.\n",
    "\n",
    "Some seasonal effects include:\n",
    "- An extremely long egg-laying period that can extend from mid-September to January.\n",
    "- The main food at the largest colonies is the euphausiid Nyctiphanes australis (krill) which occurs more abundantly within the spring season and early summer (Mills et al., 2008).\n",
    "- The relative abundance of krill has been correlated positively with the Southern Oscillation Index (SOI) (Mills et al., 2008). The SOI is calculated using the differences in pressure between Tahiti and Darwin, which typically peaks during southern hemisphere spring (September - December) (Pacific Marine Environmental Laboratory, n.d.).\n",
    "- At Kaikoura during the breeding season adult gulls can sustain themselves on alternative foods such as earthworms, small fish, garbage and kelp flies, but they are dependent upon an abundant and regular supply of the surface-swarming krill for successful breeding. Outside of the breeding season the diet is highly variable. Some still feed at sea; others feed on small invertebrates along the shore, or from human sources such as handouts in towns or cities, offal being discarded from fishing boats and garbage at rubbish dumps.\n",
    "\n",
    "In this report, we will use the GULLS.csv dataset from NZGRAPHER (Dataset, n.d.). The dataset contains information on the weight and length of gulls, as well location (Maraetai, Muriwai, or Piha), coast (east or west), season (summer or winter) and sex (male or female) of the gull.\n"
   ]
  },
  {
   "cell_type": "markdown",
   "id": "6c0a6ac1-2625-4aad-9d4c-79cfedaccc75",
   "metadata": {},
   "source": [
    "## Methods and Results"
   ]
  },
  {
   "cell_type": "markdown",
   "id": "b0ffb0f9-ce57-4daa-89f0-332cdb61334f",
   "metadata": {},
   "source": [
    "## Discussion"
   ]
  },
  {
   "cell_type": "markdown",
   "id": "d2825d92-83a7-44ca-9e8e-6ea6f57505a7",
   "metadata": {},
   "source": [
    "## References\n",
    "1. Dataset. NZGRAPHER. (n.d.). https://grapher.jake4maths.com/?folder=sneddon&dataset=GULLS.csv\n",
    "2. GULLS.CSV information. Inference. (n.d.). https://sites.google.com/view/inference/data-sets#h.p_IlT79LKK_MeP\n",
    "3. Mills, J. A., Yarrall, J. W., Bradford-Grieve, J. M., Uddstrom, M. J., Renwick, J. A., & Merilä, J. (2008). The impact of climate fluctuation on food availability and reproductive performance of the planktivorous red-billed gulllarus novaehollandiae scopulinus. Journal of Animal Ecology, 77(6), 1129–1142. https://doi.org/10.1111/j.1365-2656.2008.01383.x \n",
    "4. Pacific Marine Environmental Laboratory. (n.d.). La Niña faqs. El Niñ0 Theme Page. https://www.pmel.noaa.gov/elnino/lanina-faq \n",
    "5. Red-billed gull: Tarāpunga: New Zealand Birds Online. New Zealand Birds Online - The digital encyclopaedia of New Zealand birds. (n.d.). https://nzbirdsonline.org.nz/species/red-billed-gull"
   ]
  },
  {
   "cell_type": "code",
   "execution_count": null,
   "id": "20766210-8cee-411f-a4ff-8edaac730002",
   "metadata": {},
   "outputs": [],
   "source": []
  }
 ],
 "metadata": {
  "kernelspec": {
   "display_name": "R",
   "language": "R",
   "name": "ir"
  },
  "language_info": {
   "codemirror_mode": "r",
   "file_extension": ".r",
   "mimetype": "text/x-r-source",
   "name": "R",
   "pygments_lexer": "r",
   "version": "4.1.3"
  }
 },
 "nbformat": 4,
 "nbformat_minor": 5
}
