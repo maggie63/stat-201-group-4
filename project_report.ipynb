{
 "cells": [
  {
   "cell_type": "markdown",
   "id": "5666d7d1-3166-4cad-b7db-0e1c045bab97",
   "metadata": {},
   "source": [
    "# Seasonal Effects on Female Red-Billed Gull Weight in New Zealand.\n",
    "**Prepared by Group 4: Arnab Das, Maggie Wang, Paul Zeng, Dylan Zhang**"
   ]
  },
  {
   "cell_type": "markdown",
   "id": "56ff44c8-35a4-47ac-bf73-27c2ccee8996",
   "metadata": {},
   "source": [
    "## Introduction\n",
    "The red-billed gull is the most common gull on the New Zealand coast. It is frequently seen in coastal towns, garbage dumps, and at fish processing facilities (Red-billed gull: Tarāpunga, n.d.). We would like to find the differences in means of the weights of the female red-billed gull based on the two season climates. We believe that the primary and underlying cause of the weight variations within a year for the red-billed gulls lies in the seasonal effects that bring about change in various aspects of their habits.\n",
    "\n",
    "Some seasonal effects include:\n",
    "- An extremely long egg-laying period that can extend from mid-September to January.\n",
    "\n",
    "- The main food at the largest colonies is the euphausiid Nyctiphanes australis (krill) which occurs more abundantly within the spring season and early summer.\n",
    "\n",
    "- At Kaikoura during the breeding season adult gulls can sustain themselves on alternative foods such as earthworms, small fish, garbage and kelp flies, but they are dependent upon an abundant and regular supply of the surface-swarming krill for successful breeding. Outside of the breeding season the diet is highly variable. Some still feed at sea; others feed on small invertebrates along the shore, or from human sources such as handouts in towns or cities, offal being discarded from fishing boats and garbage at rubbish dumps."
   ]
  },
  {
   "cell_type": "markdown",
   "id": "6c0a6ac1-2625-4aad-9d4c-79cfedaccc75",
   "metadata": {},
   "source": [
    "## Methods and Results"
   ]
  },
  {
   "cell_type": "markdown",
   "id": "b0ffb0f9-ce57-4daa-89f0-332cdb61334f",
   "metadata": {},
   "source": [
    "## Discussion"
   ]
  },
  {
   "cell_type": "markdown",
   "id": "d2825d92-83a7-44ca-9e8e-6ea6f57505a7",
   "metadata": {},
   "source": [
    "## References"
   ]
  },
  {
   "cell_type": "code",
   "execution_count": null,
   "id": "0d83eb34-2bbd-43b3-a31b-e3a25b898250",
   "metadata": {},
   "outputs": [],
   "source": []
  }
 ],
 "metadata": {
  "kernelspec": {
   "display_name": "R",
   "language": "R",
   "name": "ir"
  },
  "language_info": {
   "codemirror_mode": "r",
   "file_extension": ".r",
   "mimetype": "text/x-r-source",
   "name": "R",
   "pygments_lexer": "r",
   "version": "4.1.3"
  }
 },
 "nbformat": 4,
 "nbformat_minor": 5
}
