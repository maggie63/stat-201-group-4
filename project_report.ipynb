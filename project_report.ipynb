{
 "cells": [
  {
   "cell_type": "markdown",
   "id": "5666d7d1-3166-4cad-b7db-0e1c045bab97",
   "metadata": {},
   "source": [
    "# Seasonal Effects on Female Red-Billed Gull Size in New Zealand.\n",
    "**Prepared by Group 4: Arnab Das, Maggie Wang, Paul Zeng, Dylan Zhang**"
   ]
  },
  {
   "cell_type": "markdown",
   "id": "56ff44c8-35a4-47ac-bf73-27c2ccee8996",
   "metadata": {},
   "source": [
    "## Introduction\n",
    "The red-billed gull is the most common gull on the New Zealand coast. It is frequently seen in coastal towns, garbage dumps, and at fish processing facilities (Red-billed gull: Tarāpunga, n.d.). We would like to find the differences in means of the weights and lengths of the female red-billed gull based on the two season climates. The question we will be investigating is: Are there significant differences in the mean weights and mean lengths of female red-billed gulls between the winter and summer seasons in New Zealand? We believe that the primary and underlying cause of the size variations within a year for the red-billed gulls lies in the seasonal effects that bring about change in various aspects of their habits.\n",
    "\n",
    "Some seasonal effects include:\n",
    "- An extremely long egg-laying period that can extend from mid-September to January.\n",
    "- The main food at the largest colonies is the euphausiid Nyctiphanes australis (krill) which occurs more abundantly within the spring season and early summer (Mills et al., 2008).\n",
    "- The relative abundance of krill has been correlated positively with the Southern Oscillation Index (SOI) (Mills et al., 2008). The SOI is calculated using the differences in pressure between Tahiti and Darwin, which typically peaks during southern hemisphere spring (September - December) (Pacific Marine Environmental Laboratory, n.d.).\n",
    "- At Kaikoura during the breeding season adult gulls can sustain themselves on alternative foods such as earthworms, small fish, garbage and kelp flies, but they are dependent upon an abundant and regular supply of the surface-swarming krill for successful breeding. Outside of the breeding season the diet is highly variable. Some still feed at sea; others feed on small invertebrates along the shore, or from human sources such as handouts in towns or cities, offal being discarded from fishing boats and garbage at rubbish dumps.\n",
    "\n",
    "In this report, we will use the GULLS.csv dataset from NZGRAPHER (Dataset, n.d.). The dataset contains information on the weight and length of gulls, as well location (Maraetai, Muriwai, or Piha), coast (east or west), season (summer or winter) and sex (male or female) of the gull.\n"
   ]
  },
  {
   "cell_type": "markdown",
   "id": "4d1ec32b-cc0c-41c2-8757-b195c2f6b994",
   "metadata": {},
   "source": [
    "Our hypothesis tests are as follows:\n",
    "- Null hypothesis ($H_0$): <br>\n",
    "> $H_0: \\mu_1 - \\mu_2 = 0$.\n",
    "\n",
    "- Alternative hypothesis ($H_a$): <br>\n",
    "> $H_1: \\mu_1 - \\mu_2 \\neq 0$.\n",
    "\n",
    "where $\\mu_1$ = The weight of the gulls during the summer, $\\mu_2$ = the weight of the gulls during the winter.\n",
    "\n",
    "and:\n",
    "- Null hypothesis ($H_0$): <br>\n",
    "> $H_0: \\mu_3 - \\mu_4 = 0$.\n",
    "\n",
    "- Alternative hypothesis ($H_a$): <br>\n",
    "> $H_1: \\mu_3 - \\mu_4 \\neq 0$.\n",
    "\n",
    "where $\\mu_3$ = The length of the gulls during the summer, $\\mu_4$ = the length of the gulls during the winter."
   ]
  },
  {
   "cell_type": "markdown",
   "id": "6c0a6ac1-2625-4aad-9d4c-79cfedaccc75",
   "metadata": {},
   "source": [
    "## Methods and Results\n",
    "We first loaded all libraries pertaining and relevant for this data analysis."
   ]
  },
  {
   "cell_type": "code",
   "execution_count": 1,
   "id": "7606616f-cf8b-4fbf-ada2-070f4aff519f",
   "metadata": {
    "vscode": {
     "languageId": "r"
    }
   },
   "outputs": [
    {
     "name": "stderr",
     "output_type": "stream",
     "text": [
      "-- \u001b[1mAttaching packages\u001b[22m ------------------------------------------------------------------------------- tidyverse 1.3.1 --\n",
      "\n",
      "\u001b[32mv\u001b[39m \u001b[34mggplot2\u001b[39m 3.3.5     \u001b[32mv\u001b[39m \u001b[34mpurrr  \u001b[39m 0.3.4\n",
      "\u001b[32mv\u001b[39m \u001b[34mtibble \u001b[39m 3.1.4     \u001b[32mv\u001b[39m \u001b[34mdplyr  \u001b[39m 1.0.7\n",
      "\u001b[32mv\u001b[39m \u001b[34mtidyr  \u001b[39m 1.1.3     \u001b[32mv\u001b[39m \u001b[34mstringr\u001b[39m 1.4.0\n",
      "\u001b[32mv\u001b[39m \u001b[34mreadr  \u001b[39m 2.0.1     \u001b[32mv\u001b[39m \u001b[34mforcats\u001b[39m 0.5.1\n",
      "\n",
      "-- \u001b[1mConflicts\u001b[22m ---------------------------------------------------------------------------------- tidyverse_conflicts() --\n",
      "\u001b[31mx\u001b[39m \u001b[34mdplyr\u001b[39m::\u001b[32mfilter()\u001b[39m masks \u001b[34mstats\u001b[39m::filter()\n",
      "\u001b[31mx\u001b[39m \u001b[34mdplyr\u001b[39m::\u001b[32mlag()\u001b[39m    masks \u001b[34mstats\u001b[39m::lag()\n",
      "\n"
     ]
    }
   ],
   "source": [
    "# Loading all the required libraries\n",
    "library(infer)\n",
    "library(tidyverse)\n",
    "library(broom)"
   ]
  },
  {
   "cell_type": "markdown",
   "id": "f41a491c-baee-49ac-8255-db4987a50107",
   "metadata": {},
   "source": [
    "Since the data was stored elsewhere, we used `read_csv` to import from the website and loaded the data onto our worksheet. We used `as_factor` to convert the variables of location, coast, season, and sex from characters to factors, to make it easier to perform statistical operations on them."
   ]
  },
  {
   "cell_type": "code",
   "execution_count": 2,
   "id": "8d7274b9-1705-442f-be3f-916cfe231b9d",
   "metadata": {
    "vscode": {
     "languageId": "r"
    }
   },
   "outputs": [
    {
     "name": "stderr",
     "output_type": "stream",
     "text": [
      "\u001b[1m\u001b[1mRows: \u001b[1m\u001b[22m\u001b[34m\u001b[34m2487\u001b[34m\u001b[39m \u001b[1m\u001b[1mColumns: \u001b[1m\u001b[22m\u001b[34m\u001b[34m6\u001b[34m\u001b[39m\n",
      "\n",
      "\u001b[36m--\u001b[39m \u001b[1m\u001b[1mColumn specification\u001b[1m\u001b[22m \u001b[36m------------------------------------------------------------------------------------------------\u001b[39m\n",
      "\u001b[1mDelimiter:\u001b[22m \",\"\n",
      "\u001b[31mchr\u001b[39m (4): LOCATION, COAST, SEASON, SEX\n",
      "\u001b[32mdbl\u001b[39m (2): WEIGHT, LENGTH\n",
      "\n",
      "\n",
      "\u001b[36mi\u001b[39m Use \u001b[30m\u001b[47m\u001b[30m\u001b[47m`spec()`\u001b[47m\u001b[30m\u001b[49m\u001b[39m to retrieve the full column specification for this data.\n",
      "\u001b[36mi\u001b[39m Specify the column types or set \u001b[30m\u001b[47m\u001b[30m\u001b[47m`show_col_types = FALSE`\u001b[47m\u001b[30m\u001b[49m\u001b[39m to quiet this message.\n",
      "\n"
     ]
    },
    {
     "data": {
      "text/html": [
       "<table class=\"dataframe\">\n",
       "<caption>A tibble: 6 × 6</caption>\n",
       "<thead>\n",
       "\t<tr><th scope=col>WEIGHT</th><th scope=col>LENGTH</th><th scope=col>LOCATION</th><th scope=col>COAST</th><th scope=col>SEASON</th><th scope=col>SEX</th></tr>\n",
       "\t<tr><th scope=col>&lt;dbl&gt;</th><th scope=col>&lt;dbl&gt;</th><th scope=col>&lt;fct&gt;</th><th scope=col>&lt;fct&gt;</th><th scope=col>&lt;fct&gt;</th><th scope=col>&lt;fct&gt;</th></tr>\n",
       "</thead>\n",
       "<tbody>\n",
       "\t<tr><td>262</td><td>38.9</td><td>MARAETAI</td><td>EAST</td><td>WINTER</td><td>MALE  </td></tr>\n",
       "\t<tr><td>300</td><td>41.3</td><td>MURIWAI </td><td>WEST</td><td>SUMMER</td><td>MALE  </td></tr>\n",
       "\t<tr><td>250</td><td>36.6</td><td>MURIWAI </td><td>WEST</td><td>WINTER</td><td>MALE  </td></tr>\n",
       "\t<tr><td>242</td><td>36.0</td><td>MARAETAI</td><td>EAST</td><td>WINTER</td><td>FEMALE</td></tr>\n",
       "\t<tr><td>261</td><td>37.1</td><td>MURIWAI </td><td>WEST</td><td>WINTER</td><td>MALE  </td></tr>\n",
       "\t<tr><td>262</td><td>38.2</td><td>MURIWAI </td><td>WEST</td><td>WINTER</td><td>MALE  </td></tr>\n",
       "</tbody>\n",
       "</table>\n"
      ],
      "text/latex": [
       "A tibble: 6 × 6\n",
       "\\begin{tabular}{llllll}\n",
       " WEIGHT & LENGTH & LOCATION & COAST & SEASON & SEX\\\\\n",
       " <dbl> & <dbl> & <fct> & <fct> & <fct> & <fct>\\\\\n",
       "\\hline\n",
       "\t 262 & 38.9 & MARAETAI & EAST & WINTER & MALE  \\\\\n",
       "\t 300 & 41.3 & MURIWAI  & WEST & SUMMER & MALE  \\\\\n",
       "\t 250 & 36.6 & MURIWAI  & WEST & WINTER & MALE  \\\\\n",
       "\t 242 & 36.0 & MARAETAI & EAST & WINTER & FEMALE\\\\\n",
       "\t 261 & 37.1 & MURIWAI  & WEST & WINTER & MALE  \\\\\n",
       "\t 262 & 38.2 & MURIWAI  & WEST & WINTER & MALE  \\\\\n",
       "\\end{tabular}\n"
      ],
      "text/markdown": [
       "\n",
       "A tibble: 6 × 6\n",
       "\n",
       "| WEIGHT &lt;dbl&gt; | LENGTH &lt;dbl&gt; | LOCATION &lt;fct&gt; | COAST &lt;fct&gt; | SEASON &lt;fct&gt; | SEX &lt;fct&gt; |\n",
       "|---|---|---|---|---|---|\n",
       "| 262 | 38.9 | MARAETAI | EAST | WINTER | MALE   |\n",
       "| 300 | 41.3 | MURIWAI  | WEST | SUMMER | MALE   |\n",
       "| 250 | 36.6 | MURIWAI  | WEST | WINTER | MALE   |\n",
       "| 242 | 36.0 | MARAETAI | EAST | WINTER | FEMALE |\n",
       "| 261 | 37.1 | MURIWAI  | WEST | WINTER | MALE   |\n",
       "| 262 | 38.2 | MURIWAI  | WEST | WINTER | MALE   |\n",
       "\n"
      ],
      "text/plain": [
       "  WEIGHT LENGTH LOCATION COAST SEASON SEX   \n",
       "1 262    38.9   MARAETAI EAST  WINTER MALE  \n",
       "2 300    41.3   MURIWAI  WEST  SUMMER MALE  \n",
       "3 250    36.6   MURIWAI  WEST  WINTER MALE  \n",
       "4 242    36.0   MARAETAI EAST  WINTER FEMALE\n",
       "5 261    37.1   MURIWAI  WEST  WINTER MALE  \n",
       "6 262    38.2   MURIWAI  WEST  WINTER MALE  "
      ]
     },
     "metadata": {},
     "output_type": "display_data"
    }
   ],
   "source": [
    "# Reading dataframe from the internet and storing it to a variable\n",
    "gulls <- read_csv(\"https://raw.githubusercontent.com/maggie63/stat-201-group-4/main/gulls_data.csv\") |>\n",
    "    mutate(LOCATION = as_factor(LOCATION), COAST = as_factor(COAST), SEASON = as_factor(SEASON), SEX = as_factor(SEX)) |>\n",
    "    filter((!is.na(WEIGHT)))\n",
    "\n",
    "# Printing the first few rows of the dataframe\n",
    "head(gulls)"
   ]
  },
  {
   "cell_type": "markdown",
   "id": "df05641d-69be-406d-bd1c-e532c1c625a9",
   "metadata": {},
   "source": [
    "*Table 1.0: First few rows of \"Gulls Data Set\" with 2487 rows and 6 columns*\n",
    "\n",
    "\n",
    "We then checked whether the seasons are represented similarly/equally and the number of samples is more than 30 per season."
   ]
  },
  {
   "cell_type": "code",
   "execution_count": 3,
   "id": "906bd856-507b-4035-b691-2bb3e1f907ec",
   "metadata": {
    "vscode": {
     "languageId": "r"
    }
   },
   "outputs": [
    {
     "data": {
      "text/html": [
       "<table class=\"dataframe\">\n",
       "<caption>A tibble: 2 × 2</caption>\n",
       "<thead>\n",
       "\t<tr><th scope=col>SEASON</th><th scope=col>n</th></tr>\n",
       "\t<tr><th scope=col>&lt;fct&gt;</th><th scope=col>&lt;int&gt;</th></tr>\n",
       "</thead>\n",
       "<tbody>\n",
       "\t<tr><td>WINTER</td><td>615</td></tr>\n",
       "\t<tr><td>SUMMER</td><td>665</td></tr>\n",
       "</tbody>\n",
       "</table>\n"
      ],
      "text/latex": [
       "A tibble: 2 × 2\n",
       "\\begin{tabular}{ll}\n",
       " SEASON & n\\\\\n",
       " <fct> & <int>\\\\\n",
       "\\hline\n",
       "\t WINTER & 615\\\\\n",
       "\t SUMMER & 665\\\\\n",
       "\\end{tabular}\n"
      ],
      "text/markdown": [
       "\n",
       "A tibble: 2 × 2\n",
       "\n",
       "| SEASON &lt;fct&gt; | n &lt;int&gt; |\n",
       "|---|---|\n",
       "| WINTER | 615 |\n",
       "| SUMMER | 665 |\n",
       "\n"
      ],
      "text/plain": [
       "  SEASON n  \n",
       "1 WINTER 615\n",
       "2 SUMMER 665"
      ]
     },
     "metadata": {},
     "output_type": "display_data"
    }
   ],
   "source": [
    "# Group data to see if the categorical variables are representated properly\n",
    "n_obs <- gulls |>\n",
    "    select(-LENGTH) |>\n",
    "    filter(SEX == \"FEMALE\" ) |>\n",
    "    group_by(SEASON) |>\n",
    "    summarise(n = n())\n",
    "n_obs"
   ]
  },
  {
   "cell_type": "markdown",
   "id": "78a96b8f-871a-4960-92bb-4e4677b91961",
   "metadata": {},
   "source": [
    "*Table 2.0: Number of observations recorded during each season.*"
   ]
  },
  {
   "cell_type": "markdown",
   "id": "60147328-b6ae-470c-93cf-6d2c2804a8bd",
   "metadata": {},
   "source": [
    "Since the population is representated properly in the sample, we were able to move on with the rest of the analysis.\n",
    "\n",
    "We began by filtering the data to select only female gulls, and to get rid of any rows that may have been missing data. We created two different data frames, one for weight and one for length."
   ]
  },
  {
   "cell_type": "code",
   "execution_count": 4,
   "id": "b91d0245-f88d-4734-a467-d61a236e2850",
   "metadata": {
    "vscode": {
     "languageId": "r"
    }
   },
   "outputs": [
    {
     "data": {
      "text/html": [
       "<table class=\"dataframe\">\n",
       "<caption>A tibble: 6 × 2</caption>\n",
       "<thead>\n",
       "\t<tr><th scope=col>WEIGHT</th><th scope=col>SEASON</th></tr>\n",
       "\t<tr><th scope=col>&lt;dbl&gt;</th><th scope=col>&lt;fct&gt;</th></tr>\n",
       "</thead>\n",
       "<tbody>\n",
       "\t<tr><td>242</td><td>WINTER</td></tr>\n",
       "\t<tr><td>278</td><td>SUMMER</td></tr>\n",
       "\t<tr><td>278</td><td>SUMMER</td></tr>\n",
       "\t<tr><td>247</td><td>WINTER</td></tr>\n",
       "\t<tr><td>268</td><td>SUMMER</td></tr>\n",
       "\t<tr><td>274</td><td>SUMMER</td></tr>\n",
       "</tbody>\n",
       "</table>\n"
      ],
      "text/latex": [
       "A tibble: 6 × 2\n",
       "\\begin{tabular}{ll}\n",
       " WEIGHT & SEASON\\\\\n",
       " <dbl> & <fct>\\\\\n",
       "\\hline\n",
       "\t 242 & WINTER\\\\\n",
       "\t 278 & SUMMER\\\\\n",
       "\t 278 & SUMMER\\\\\n",
       "\t 247 & WINTER\\\\\n",
       "\t 268 & SUMMER\\\\\n",
       "\t 274 & SUMMER\\\\\n",
       "\\end{tabular}\n"
      ],
      "text/markdown": [
       "\n",
       "A tibble: 6 × 2\n",
       "\n",
       "| WEIGHT &lt;dbl&gt; | SEASON &lt;fct&gt; |\n",
       "|---|---|\n",
       "| 242 | WINTER |\n",
       "| 278 | SUMMER |\n",
       "| 278 | SUMMER |\n",
       "| 247 | WINTER |\n",
       "| 268 | SUMMER |\n",
       "| 274 | SUMMER |\n",
       "\n"
      ],
      "text/plain": [
       "  WEIGHT SEASON\n",
       "1 242    WINTER\n",
       "2 278    SUMMER\n",
       "3 278    SUMMER\n",
       "4 247    WINTER\n",
       "5 268    SUMMER\n",
       "6 274    SUMMER"
      ]
     },
     "metadata": {},
     "output_type": "display_data"
    }
   ],
   "source": [
    "# Filtering and grouping weight data\n",
    "gull_weights <- gulls |> \n",
    "    filter(SEX == \"FEMALE\" & (!is.na(WEIGHT))) |>\n",
    "    select(WEIGHT, SEASON)\n",
    "head(gull_weights)"
   ]
  },
  {
   "cell_type": "markdown",
   "id": "0e75f622-78e2-4f9a-8fdd-3ec4af4734a1",
   "metadata": {},
   "source": [
    "*Table 3.1: Filtered data frame containing weight of gulls and season.*"
   ]
  },
  {
   "cell_type": "code",
   "execution_count": 5,
   "id": "70908a49-becd-45e1-aaf3-272bca1e7a55",
   "metadata": {},
   "outputs": [
    {
     "data": {
      "text/html": [
       "<table class=\"dataframe\">\n",
       "<caption>A tibble: 6 × 2</caption>\n",
       "<thead>\n",
       "\t<tr><th scope=col>LENGTH</th><th scope=col>SEASON</th></tr>\n",
       "\t<tr><th scope=col>&lt;dbl&gt;</th><th scope=col>&lt;fct&gt;</th></tr>\n",
       "</thead>\n",
       "<tbody>\n",
       "\t<tr><td>36.0</td><td>WINTER</td></tr>\n",
       "\t<tr><td>35.2</td><td>SUMMER</td></tr>\n",
       "\t<tr><td>37.4</td><td>SUMMER</td></tr>\n",
       "\t<tr><td>36.9</td><td>WINTER</td></tr>\n",
       "\t<tr><td>36.6</td><td>SUMMER</td></tr>\n",
       "\t<tr><td>35.4</td><td>SUMMER</td></tr>\n",
       "</tbody>\n",
       "</table>\n"
      ],
      "text/latex": [
       "A tibble: 6 × 2\n",
       "\\begin{tabular}{ll}\n",
       " LENGTH & SEASON\\\\\n",
       " <dbl> & <fct>\\\\\n",
       "\\hline\n",
       "\t 36.0 & WINTER\\\\\n",
       "\t 35.2 & SUMMER\\\\\n",
       "\t 37.4 & SUMMER\\\\\n",
       "\t 36.9 & WINTER\\\\\n",
       "\t 36.6 & SUMMER\\\\\n",
       "\t 35.4 & SUMMER\\\\\n",
       "\\end{tabular}\n"
      ],
      "text/markdown": [
       "\n",
       "A tibble: 6 × 2\n",
       "\n",
       "| LENGTH &lt;dbl&gt; | SEASON &lt;fct&gt; |\n",
       "|---|---|\n",
       "| 36.0 | WINTER |\n",
       "| 35.2 | SUMMER |\n",
       "| 37.4 | SUMMER |\n",
       "| 36.9 | WINTER |\n",
       "| 36.6 | SUMMER |\n",
       "| 35.4 | SUMMER |\n",
       "\n"
      ],
      "text/plain": [
       "  LENGTH SEASON\n",
       "1 36.0   WINTER\n",
       "2 35.2   SUMMER\n",
       "3 37.4   SUMMER\n",
       "4 36.9   WINTER\n",
       "5 36.6   SUMMER\n",
       "6 35.4   SUMMER"
      ]
     },
     "metadata": {},
     "output_type": "display_data"
    }
   ],
   "source": [
    "# Filtering and grouping length data\n",
    "gull_lengths <- gulls |> \n",
    "    filter(SEX == \"FEMALE\" & (!is.na(LENGTH))) |>\n",
    "    select(LENGTH, SEASON)\n",
    "head(gull_lengths)"
   ]
  },
  {
   "cell_type": "markdown",
   "id": "781acd42-490f-4c41-adcd-0867536940c9",
   "metadata": {},
   "source": [
    "*Table 3.2: Filtered data frame containing length of gulls and season.*"
   ]
  },
  {
   "cell_type": "code",
   "execution_count": 6,
   "id": "48159713-7ff7-4aa4-8e9c-eb0bc0a887aa",
   "metadata": {
    "vscode": {
     "languageId": "r"
    }
   },
   "outputs": [
    {
     "data": {
      "image/png": "[encoded data removed]",
      "text/plain": [
       "plot without title"
      ]
     },
     "metadata": {
      "image/png": {
       "height": 420,
       "width": 420
      }
     },
     "output_type": "display_data"
    }
   ],
   "source": [
    "winter_summer_weight_boxplots <-\n",
    "    gull_weights |>\n",
    "    ggplot() +\n",
    "    geom_boxplot(aes(x = SEASON, y = WEIGHT, fill = SEASON)) +\n",
    "    ggtitle(\"Box plot of weight of Female Red-billed gull by season\") +\n",
    "    xlab(\"Season\") +\n",
    "    ylab(\"Weight\") +\n",
    "    guides(fill = \"none\") +\n",
    "    theme(text = element_text(size = 15))\n",
    "winter_summer_weight_boxplots"
   ]
  },
  {
   "cell_type": "markdown",
   "id": "9c4f3975-5969-419f-96f7-93eb15cc3990",
   "metadata": {},
   "source": [
    "*Figure 1.1: Boxplot comparing weight of gulls in winter vs. summer.*"
   ]
  },
  {
   "cell_type": "code",
   "execution_count": 7,
   "id": "8adced2d-ac90-43de-bc86-653460cdc365",
   "metadata": {
    "vscode": {
     "languageId": "r"
    }
   },
   "outputs": [
    {
     "data": {
      "image/png": "[encoded data removed]",
      "text/plain": [
       "plot without title"
      ]
     },
     "metadata": {
      "image/png": {
       "height": 420,
       "width": 420
      }
     },
     "output_type": "display_data"
    }
   ],
   "source": [
    "winter_summer_length_boxplots <-\n",
    "    gull_lengths |>\n",
    "    ggplot() +\n",
    "    geom_boxplot(aes(x = SEASON, y = LENGTH, fill = SEASON)) +\n",
    "    ggtitle(\"Box plot of length of Female Red-billed gull by season\") +\n",
    "    xlab(\"Season\") +\n",
    "    ylab(\"Length\") +\n",
    "    guides(fill = \"none\") +\n",
    "    theme(text = element_text(size = 15))\n",
    "winter_summer_length_boxplots"
   ]
  },
  {
   "cell_type": "markdown",
   "id": "0a4fbb42-0b47-4474-a85f-6c7ca7bb6c43",
   "metadata": {},
   "source": [
    "*Figure 1.2: Boxplot comparing length of gulls in winter vs. summer.*"
   ]
  },
  {
   "cell_type": "markdown",
   "id": "f1a4fe40-3938-4eac-8845-c9894b006b8f",
   "metadata": {},
   "source": [
    "The median weight is around 250 cm in the winter while in the summer it is around 270 cm. There is a similar spread in gull weights across seasons. Both seasons have similar ranges and interquartile ranges of weight (IQR), and there are similar numbers of outliers. Overall, the gull weight distributions have a similar spread, but different centers, depending on the season.\n",
    "\n",
    "Across both seasons, the median length is around 35 cm and the spread is similar. For both seasons, the range and interquartile range of length (IQR) show a similar pattern, and the number of outliers is similar. Overall, the distribution of gull lengths between the two seasons is similar, with identical spreads and centers.\n",
    "\n",
    "Next, we drew a single random sample of size 50, making sure to set the seed first so that our results for randomization are reproducible. We then calculated the sample mean and sample standard error for both the weight and length, and stored them in separate data frames, along with the number of observations from each season."
   ]
  },
  {
   "cell_type": "code",
   "execution_count": 8,
   "id": "395b07cf-1604-4d04-8a4a-704dccade166",
   "metadata": {
    "vscode": {
     "languageId": "r"
    }
   },
   "outputs": [
    {
     "data": {
      "text/html": [
       "<table class=\"dataframe\">\n",
       "<caption>A tibble: 2 × 4</caption>\n",
       "<thead>\n",
       "\t<tr><th scope=col>SEASON</th><th scope=col>n</th><th scope=col>sample_mean</th><th scope=col>sample_std_error</th></tr>\n",
       "\t<tr><th scope=col>&lt;fct&gt;</th><th scope=col>&lt;int&gt;</th><th scope=col>&lt;dbl&gt;</th><th scope=col>&lt;dbl&gt;</th></tr>\n",
       "</thead>\n",
       "<tbody>\n",
       "\t<tr><td>WINTER</td><td>27</td><td>253.2222</td><td>1.860776</td></tr>\n",
       "\t<tr><td>SUMMER</td><td>23</td><td>268.5217</td><td>2.331151</td></tr>\n",
       "</tbody>\n",
       "</table>\n"
      ],
      "text/latex": [
       "A tibble: 2 × 4\n",
       "\\begin{tabular}{llll}\n",
       " SEASON & n & sample\\_mean & sample\\_std\\_error\\\\\n",
       " <fct> & <int> & <dbl> & <dbl>\\\\\n",
       "\\hline\n",
       "\t WINTER & 27 & 253.2222 & 1.860776\\\\\n",
       "\t SUMMER & 23 & 268.5217 & 2.331151\\\\\n",
       "\\end{tabular}\n"
      ],
      "text/markdown": [
       "\n",
       "A tibble: 2 × 4\n",
       "\n",
       "| SEASON &lt;fct&gt; | n &lt;int&gt; | sample_mean &lt;dbl&gt; | sample_std_error &lt;dbl&gt; |\n",
       "|---|---|---|---|\n",
       "| WINTER | 27 | 253.2222 | 1.860776 |\n",
       "| SUMMER | 23 | 268.5217 | 2.331151 |\n",
       "\n"
      ],
      "text/plain": [
       "  SEASON n  sample_mean sample_std_error\n",
       "1 WINTER 27 253.2222    1.860776        \n",
       "2 SUMMER 23 268.5217    2.331151        "
      ]
     },
     "metadata": {},
     "output_type": "display_data"
    },
    {
     "data": {
      "text/html": [
       "<table class=\"dataframe\">\n",
       "<caption>A tibble: 2 × 4</caption>\n",
       "<thead>\n",
       "\t<tr><th scope=col>SEASON</th><th scope=col>n</th><th scope=col>sample_mean</th><th scope=col>sample_std_error</th></tr>\n",
       "\t<tr><th scope=col>&lt;fct&gt;</th><th scope=col>&lt;int&gt;</th><th scope=col>&lt;dbl&gt;</th><th scope=col>&lt;dbl&gt;</th></tr>\n",
       "</thead>\n",
       "<tbody>\n",
       "\t<tr><td>WINTER</td><td>19</td><td>35.92632</td><td>0.5650566</td></tr>\n",
       "\t<tr><td>SUMMER</td><td>31</td><td>35.42581</td><td>0.3314669</td></tr>\n",
       "</tbody>\n",
       "</table>\n"
      ],
      "text/latex": [
       "A tibble: 2 × 4\n",
       "\\begin{tabular}{llll}\n",
       " SEASON & n & sample\\_mean & sample\\_std\\_error\\\\\n",
       " <fct> & <int> & <dbl> & <dbl>\\\\\n",
       "\\hline\n",
       "\t WINTER & 19 & 35.92632 & 0.5650566\\\\\n",
       "\t SUMMER & 31 & 35.42581 & 0.3314669\\\\\n",
       "\\end{tabular}\n"
      ],
      "text/markdown": [
       "\n",
       "A tibble: 2 × 4\n",
       "\n",
       "| SEASON &lt;fct&gt; | n &lt;int&gt; | sample_mean &lt;dbl&gt; | sample_std_error &lt;dbl&gt; |\n",
       "|---|---|---|---|\n",
       "| WINTER | 19 | 35.92632 | 0.5650566 |\n",
       "| SUMMER | 31 | 35.42581 | 0.3314669 |\n",
       "\n"
      ],
      "text/plain": [
       "  SEASON n  sample_mean sample_std_error\n",
       "1 WINTER 19 35.92632    0.5650566       \n",
       "2 SUMMER 31 35.42581    0.3314669       "
      ]
     },
     "metadata": {},
     "output_type": "display_data"
    }
   ],
   "source": [
    "# Setting the seed\n",
    "set.seed(1)\n",
    "\n",
    "# Drawing a sample of size 50\n",
    "gull_weight_sample <- gull_weights |> sample_n(size = 50)\n",
    "gull_length_sample <- gull_lengths |> sample_n(size = 50)\n",
    "\n",
    "# Computing estimates\n",
    "gull_weight_summary <- gull_weight_sample |>\n",
    "    group_by(SEASON) |>\n",
    "    summarise(n = n(),\n",
    "              sample_mean = mean(WEIGHT), \n",
    "              sample_std_error = sd(WEIGHT) / sqrt(n))\n",
    "\n",
    "gull_length_summary <- gull_length_sample |>\n",
    "    group_by(SEASON) |>\n",
    "    summarise(n = n(),\n",
    "              sample_mean = mean(LENGTH), \n",
    "              sample_std_error = sd(LENGTH) / sqrt(n))\n",
    "\n",
    "gull_weight_summary\n",
    "gull_length_summary"
   ]
  },
  {
   "cell_type": "markdown",
   "id": "3eda0f13-062b-4425-9e6f-7f5e29c0f695",
   "metadata": {},
   "source": [
    "*Table 4.1 (top) and 4.2 (bottom): Summary of weight (top) and length (bottom) samples, grouped by season. Contains number of observations (n), sample mean, and sample standard error.*"
   ]
  },
  {
   "cell_type": "markdown",
   "id": "c3fce8ba-37a7-4207-a4c9-dae9efbdc3e4",
   "metadata": {},
   "source": [
    "### Hypothesis Testing"
   ]
  },
  {
   "cell_type": "markdown",
   "id": "33bc5308",
   "metadata": {},
   "source": [
    "### Using classical tests based on t distributions:"
   ]
  },
  {
   "cell_type": "markdown",
   "id": "5aac7126-ffc1-48ed-aa4b-d7b5caf54c01",
   "metadata": {},
   "source": [
    "We performed hypothesis testing using the `t.test()` function from the`infer` package."
   ]
  },
  {
   "cell_type": "code",
   "execution_count": 9,
   "id": "347848e5-b4d0-48eb-821e-9172e3f85c4a",
   "metadata": {
    "vscode": {
     "languageId": "r"
    }
   },
   "outputs": [
    {
     "data": {
      "text/html": [
       "<table class=\"dataframe\">\n",
       "<caption>A tibble: 1 × 10</caption>\n",
       "<thead>\n",
       "\t<tr><th scope=col>estimate</th><th scope=col>estimate1</th><th scope=col>estimate2</th><th scope=col>statistic</th><th scope=col>p.value</th><th scope=col>parameter</th><th scope=col>conf.low</th><th scope=col>conf.high</th><th scope=col>method</th><th scope=col>alternative</th></tr>\n",
       "\t<tr><th scope=col>&lt;dbl&gt;</th><th scope=col>&lt;dbl&gt;</th><th scope=col>&lt;dbl&gt;</th><th scope=col>&lt;dbl&gt;</th><th scope=col>&lt;dbl&gt;</th><th scope=col>&lt;dbl&gt;</th><th scope=col>&lt;dbl&gt;</th><th scope=col>&lt;dbl&gt;</th><th scope=col>&lt;chr&gt;</th><th scope=col>&lt;chr&gt;</th></tr>\n",
       "</thead>\n",
       "<tbody>\n",
       "\t<tr><td>15.29952</td><td>268.5217</td><td>253.2222</td><td>5.129345</td><td>6.318476e-06</td><td>43.88963</td><td>10.28755</td><td>20.31148</td><td>Welch Two Sample t-test</td><td>two.sided</td></tr>\n",
       "</tbody>\n",
       "</table>\n"
      ],
      "text/latex": [
       "A tibble: 1 × 10\n",
       "\\begin{tabular}{llllllllll}\n",
       " estimate & estimate1 & estimate2 & statistic & p.value & parameter & conf.low & conf.high & method & alternative\\\\\n",
       " <dbl> & <dbl> & <dbl> & <dbl> & <dbl> & <dbl> & <dbl> & <dbl> & <chr> & <chr>\\\\\n",
       "\\hline\n",
       "\t 15.29952 & 268.5217 & 253.2222 & 5.129345 & 6.318476e-06 & 43.88963 & 10.28755 & 20.31148 & Welch Two Sample t-test & two.sided\\\\\n",
       "\\end{tabular}\n"
      ],
      "text/markdown": [
       "\n",
       "A tibble: 1 × 10\n",
       "\n",
       "| estimate &lt;dbl&gt; | estimate1 &lt;dbl&gt; | estimate2 &lt;dbl&gt; | statistic &lt;dbl&gt; | p.value &lt;dbl&gt; | parameter &lt;dbl&gt; | conf.low &lt;dbl&gt; | conf.high &lt;dbl&gt; | method &lt;chr&gt; | alternative &lt;chr&gt; |\n",
       "|---|---|---|---|---|---|---|---|---|---|\n",
       "| 15.29952 | 268.5217 | 253.2222 | 5.129345 | 6.318476e-06 | 43.88963 | 10.28755 | 20.31148 | Welch Two Sample t-test | two.sided |\n",
       "\n"
      ],
      "text/plain": [
       "  estimate estimate1 estimate2 statistic p.value      parameter conf.low\n",
       "1 15.29952 268.5217  253.2222  5.129345  6.318476e-06 43.88963  10.28755\n",
       "  conf.high method                  alternative\n",
       "1 20.31148  Welch Two Sample t-test two.sided  "
      ]
     },
     "metadata": {},
     "output_type": "display_data"
    }
   ],
   "source": [
    "# infer tests for weight, testing winter vs summer seasons of the red billed gulls\n",
    "weight_test <- tidy(\n",
    "    t.test(\n",
    "        x = gull_weight_sample |>\n",
    "            filter(SEASON == \"SUMMER\") |>\n",
    "            pull(WEIGHT),\n",
    "        y = gull_weight_sample |>\n",
    "            filter(SEASON == \"WINTER\") |>\n",
    "            pull(WEIGHT),\n",
    "        stat = \"diff in means\",\n",
    "        alternative = \"two.sided\",\n",
    "        conf.level = 0.90\n",
    "        )\n",
    "    )\n",
    "weight_test"
   ]
  },
  {
   "cell_type": "markdown",
   "id": "6158f2fa-2805-4c1b-93ea-59969557ca7d",
   "metadata": {},
   "source": [
    "*Table 5.1: T-test results for gull weight.*"
   ]
  },
  {
   "cell_type": "code",
   "execution_count": 10,
   "id": "91d62967-0cc8-4366-a235-3203bec5bdbd",
   "metadata": {
    "vscode": {
     "languageId": "r"
    }
   },
   "outputs": [
    {
     "data": {
      "text/html": [
       "<table class=\"dataframe\">\n",
       "<caption>A tibble: 1 × 10</caption>\n",
       "<thead>\n",
       "\t<tr><th scope=col>estimate</th><th scope=col>estimate1</th><th scope=col>estimate2</th><th scope=col>statistic</th><th scope=col>p.value</th><th scope=col>parameter</th><th scope=col>conf.low</th><th scope=col>conf.high</th><th scope=col>method</th><th scope=col>alternative</th></tr>\n",
       "\t<tr><th scope=col>&lt;dbl&gt;</th><th scope=col>&lt;dbl&gt;</th><th scope=col>&lt;dbl&gt;</th><th scope=col>&lt;dbl&gt;</th><th scope=col>&lt;dbl&gt;</th><th scope=col>&lt;dbl&gt;</th><th scope=col>&lt;dbl&gt;</th><th scope=col>&lt;dbl&gt;</th><th scope=col>&lt;chr&gt;</th><th scope=col>&lt;chr&gt;</th></tr>\n",
       "</thead>\n",
       "<tbody>\n",
       "\t<tr><td>-0.5005093</td><td>35.42581</td><td>35.92632</td><td>-0.7640168</td><td>0.4507541</td><td>30.3622</td><td>-1.611967</td><td>0.6109482</td><td>Welch Two Sample t-test</td><td>two.sided</td></tr>\n",
       "</tbody>\n",
       "</table>\n"
      ],
      "text/latex": [
       "A tibble: 1 × 10\n",
       "\\begin{tabular}{llllllllll}\n",
       " estimate & estimate1 & estimate2 & statistic & p.value & parameter & conf.low & conf.high & method & alternative\\\\\n",
       " <dbl> & <dbl> & <dbl> & <dbl> & <dbl> & <dbl> & <dbl> & <dbl> & <chr> & <chr>\\\\\n",
       "\\hline\n",
       "\t -0.5005093 & 35.42581 & 35.92632 & -0.7640168 & 0.4507541 & 30.3622 & -1.611967 & 0.6109482 & Welch Two Sample t-test & two.sided\\\\\n",
       "\\end{tabular}\n"
      ],
      "text/markdown": [
       "\n",
       "A tibble: 1 × 10\n",
       "\n",
       "| estimate &lt;dbl&gt; | estimate1 &lt;dbl&gt; | estimate2 &lt;dbl&gt; | statistic &lt;dbl&gt; | p.value &lt;dbl&gt; | parameter &lt;dbl&gt; | conf.low &lt;dbl&gt; | conf.high &lt;dbl&gt; | method &lt;chr&gt; | alternative &lt;chr&gt; |\n",
       "|---|---|---|---|---|---|---|---|---|---|\n",
       "| -0.5005093 | 35.42581 | 35.92632 | -0.7640168 | 0.4507541 | 30.3622 | -1.611967 | 0.6109482 | Welch Two Sample t-test | two.sided |\n",
       "\n"
      ],
      "text/plain": [
       "  estimate   estimate1 estimate2 statistic  p.value   parameter conf.low \n",
       "1 -0.5005093 35.42581  35.92632  -0.7640168 0.4507541 30.3622   -1.611967\n",
       "  conf.high method                  alternative\n",
       "1 0.6109482 Welch Two Sample t-test two.sided  "
      ]
     },
     "metadata": {},
     "output_type": "display_data"
    }
   ],
   "source": [
    "# infer tests for length, testing winter vs summer seasons of the red billed gulls\n",
    "length_test <- tidy(\n",
    "    t.test(\n",
    "        x = gull_length_sample |>\n",
    "            filter(SEASON == \"SUMMER\") |>\n",
    "            pull(LENGTH),\n",
    "        y = gull_length_sample |>\n",
    "            filter(SEASON == \"WINTER\") |>\n",
    "            pull(LENGTH),\n",
    "        stat = \"diff in means\",\n",
    "        alternative = \"two.sided\",\n",
    "        conf.level = 0.90\n",
    "        )\n",
    "    )\n",
    "length_test"
   ]
  },
  {
   "cell_type": "markdown",
   "id": "1890c111-bbe7-457b-bb47-d91787126322",
   "metadata": {},
   "source": [
    "*Table 5.2: T-test results for gull length.*"
   ]
  },
  {
   "cell_type": "markdown",
   "id": "f919fcc4-49b0-4868-bd15-71d16630cbe8",
   "metadata": {},
   "source": [
    "For our analysis, we conducted hypothesis tests to compare the mean weights and mean lengths of female red-billed gulls between the winter and summer seasons. We used the Welch Two Sample t-test, which is suitable for comparing means when the assumption of equal variances is not met. This choice aligns with the inherent variability of biological measurements, where unequal variances can be expected.\n",
    "\n",
    "#### Weight Hypothesis Test:\n",
    "We first conducted a hypothesis test for mean weights. The calculated test statistic was 5.129, resulting in a p-value of 6.318476e-06. With a significance level of 0.05, the p-value is significantly lower. Therefore, we reject the null hypothesis, suggesting that there are statistically significant differences in mean weights between winter and summer seasons. The 90% confidence interval for the difference in means is [10.28755, 20.31148].\n",
    "\n",
    "#### Length Hypothesis Test:\n",
    "Next, we performed a similar hypothesis test for mean lengths. The computed test statistic was -0.764, yielding a p-value of 0.4507541. As the p-value exceeds 0.05, we do not have enough evidence to reject the null hypothesis. This implies that there are no statistically significant differences in mean lengths between winter and summer seasons. The 90% confidence interval for the difference in means is [-1.611967, 0.6109482]."
   ]
  },
  {
   "cell_type": "markdown",
   "id": "99508f3f-4bc5-4d65-9965-bac2282ec920",
   "metadata": {},
   "source": [
    "### Confidence interval using bootstrap distribution:"
   ]
  },
  {
   "cell_type": "markdown",
   "id": "96768731-6c30-4440-ab10-d000189d820e",
   "metadata": {},
   "source": [
    "First, we found the bootstrap distribution for the difference in medians with the `infer` package. Using `gull_weight_sample`, we specified the response and explanatory variables, generated 1000 samples, and calculated mean weight in summer minus the mean weight in winter. We repeated the process for the difference in mean length in summer minus winter."
   ]
  },
  {
   "cell_type": "code",
   "execution_count": 11,
   "id": "bb3143e6-e75b-4e50-8386-7c1eb0f91588",
   "metadata": {
    "vscode": {
     "languageId": "r"
    }
   },
   "outputs": [
    {
     "data": {
      "text/html": [
       "<table class=\"dataframe\">\n",
       "<caption>A infer: 6 × 2</caption>\n",
       "<thead>\n",
       "\t<tr><th scope=col>replicate</th><th scope=col>stat</th></tr>\n",
       "\t<tr><th scope=col>&lt;int&gt;</th><th scope=col>&lt;dbl&gt;</th></tr>\n",
       "</thead>\n",
       "<tbody>\n",
       "\t<tr><td>1</td><td>16.66234</td></tr>\n",
       "\t<tr><td>2</td><td>14.90640</td></tr>\n",
       "\t<tr><td>3</td><td>14.45894</td></tr>\n",
       "\t<tr><td>4</td><td>10.23377</td></tr>\n",
       "\t<tr><td>5</td><td>18.52000</td></tr>\n",
       "\t<tr><td>6</td><td>18.50649</td></tr>\n",
       "</tbody>\n",
       "</table>\n"
      ],
      "text/latex": [
       "A infer: 6 × 2\n",
       "\\begin{tabular}{ll}\n",
       " replicate & stat\\\\\n",
       " <int> & <dbl>\\\\\n",
       "\\hline\n",
       "\t 1 & 16.66234\\\\\n",
       "\t 2 & 14.90640\\\\\n",
       "\t 3 & 14.45894\\\\\n",
       "\t 4 & 10.23377\\\\\n",
       "\t 5 & 18.52000\\\\\n",
       "\t 6 & 18.50649\\\\\n",
       "\\end{tabular}\n"
      ],
      "text/markdown": [
       "\n",
       "A infer: 6 × 2\n",
       "\n",
       "| replicate &lt;int&gt; | stat &lt;dbl&gt; |\n",
       "|---|---|\n",
       "| 1 | 16.66234 |\n",
       "| 2 | 14.90640 |\n",
       "| 3 | 14.45894 |\n",
       "| 4 | 10.23377 |\n",
       "| 5 | 18.52000 |\n",
       "| 6 | 18.50649 |\n",
       "\n"
      ],
      "text/plain": [
       "  replicate stat    \n",
       "1 1         16.66234\n",
       "2 2         14.90640\n",
       "3 3         14.45894\n",
       "4 4         10.23377\n",
       "5 5         18.52000\n",
       "6 6         18.50649"
      ]
     },
     "metadata": {},
     "output_type": "display_data"
    }
   ],
   "source": [
    "set.seed(9263)\n",
    "\n",
    "diff_in_mean_weights_bootstrap_dist <- gull_weight_sample |>\n",
    "   specify(formula = WEIGHT ~ SEASON) %>% \n",
    "   generate(reps = 1000, type = \"bootstrap\") %>% \n",
    "   calculate(stat = \"diff in means\", order = c(\"SUMMER\", \"WINTER\"))\n",
    "\n",
    "head(diff_in_mean_weights_bootstrap_dist)"
   ]
  },
  {
   "cell_type": "markdown",
   "id": "eba32751-1f1a-460d-acb8-e823b01cc80a",
   "metadata": {},
   "source": [
    "*Table 6.1: Data frame containing bootstrap distribution for the difference in mean gull weights (summer minus winter).*"
   ]
  },
  {
   "cell_type": "code",
   "execution_count": 12,
   "id": "37b100b1-1026-4588-98c5-785961b7e4fe",
   "metadata": {
    "vscode": {
     "languageId": "r"
    }
   },
   "outputs": [
    {
     "data": {
      "text/html": [
       "<table class=\"dataframe\">\n",
       "<caption>A infer: 6 × 2</caption>\n",
       "<thead>\n",
       "\t<tr><th scope=col>replicate</th><th scope=col>stat</th></tr>\n",
       "\t<tr><th scope=col>&lt;int&gt;</th><th scope=col>&lt;dbl&gt;</th></tr>\n",
       "</thead>\n",
       "<tbody>\n",
       "\t<tr><td>1</td><td> 0.1089744</td></tr>\n",
       "\t<tr><td>2</td><td>-0.6508021</td></tr>\n",
       "\t<tr><td>3</td><td> 0.3408730</td></tr>\n",
       "\t<tr><td>4</td><td>-1.7147950</td></tr>\n",
       "\t<tr><td>5</td><td>-0.5537842</td></tr>\n",
       "\t<tr><td>6</td><td>-0.8320000</td></tr>\n",
       "</tbody>\n",
       "</table>\n"
      ],
      "text/latex": [
       "A infer: 6 × 2\n",
       "\\begin{tabular}{ll}\n",
       " replicate & stat\\\\\n",
       " <int> & <dbl>\\\\\n",
       "\\hline\n",
       "\t 1 &  0.1089744\\\\\n",
       "\t 2 & -0.6508021\\\\\n",
       "\t 3 &  0.3408730\\\\\n",
       "\t 4 & -1.7147950\\\\\n",
       "\t 5 & -0.5537842\\\\\n",
       "\t 6 & -0.8320000\\\\\n",
       "\\end{tabular}\n"
      ],
      "text/markdown": [
       "\n",
       "A infer: 6 × 2\n",
       "\n",
       "| replicate &lt;int&gt; | stat &lt;dbl&gt; |\n",
       "|---|---|\n",
       "| 1 |  0.1089744 |\n",
       "| 2 | -0.6508021 |\n",
       "| 3 |  0.3408730 |\n",
       "| 4 | -1.7147950 |\n",
       "| 5 | -0.5537842 |\n",
       "| 6 | -0.8320000 |\n",
       "\n"
      ],
      "text/plain": [
       "  replicate stat      \n",
       "1 1          0.1089744\n",
       "2 2         -0.6508021\n",
       "3 3          0.3408730\n",
       "4 4         -1.7147950\n",
       "5 5         -0.5537842\n",
       "6 6         -0.8320000"
      ]
     },
     "metadata": {},
     "output_type": "display_data"
    }
   ],
   "source": [
    "set.seed(9263)\n",
    "\n",
    "diff_in_mean_lengths_bootstrap_dist <- gull_length_sample |>\n",
    "   specify(formula = LENGTH ~ SEASON) %>% \n",
    "   generate(reps = 1000, type = \"bootstrap\") %>% \n",
    "   calculate(stat = \"diff in means\", order = c(\"SUMMER\", \"WINTER\"))\n",
    "\n",
    "head(diff_in_mean_lengths_bootstrap_dist)"
   ]
  },
  {
   "cell_type": "markdown",
   "id": "8c291271-4d3b-43c4-851b-5843c20e4e4f",
   "metadata": {},
   "source": [
    "*Table 6.2: Data frame containing bootstrap distribution for the difference in mean gull lengths (summer minus winter).*"
   ]
  },
  {
   "cell_type": "markdown",
   "id": "5a499716-dcfe-435c-8880-e654e3a8c232",
   "metadata": {},
   "source": [
    "We used the bootstrap distributions for difference in mean weights and lengths to find the 90% confidence interval."
   ]
  },
  {
   "cell_type": "code",
   "execution_count": 13,
   "id": "a49b24b0-8936-4059-abbf-26dfba82f88d",
   "metadata": {
    "vscode": {
     "languageId": "r"
    }
   },
   "outputs": [
    {
     "data": {
      "text/html": [
       "<table class=\"dataframe\">\n",
       "<caption>A tibble: 1 × 2</caption>\n",
       "<thead>\n",
       "\t<tr><th scope=col>lower_ci</th><th scope=col>upper_ci</th></tr>\n",
       "\t<tr><th scope=col>&lt;dbl&gt;</th><th scope=col>&lt;dbl&gt;</th></tr>\n",
       "</thead>\n",
       "<tbody>\n",
       "\t<tr><td>10.34968</td><td>20.21379</td></tr>\n",
       "</tbody>\n",
       "</table>\n"
      ],
      "text/latex": [
       "A tibble: 1 × 2\n",
       "\\begin{tabular}{ll}\n",
       " lower\\_ci & upper\\_ci\\\\\n",
       " <dbl> & <dbl>\\\\\n",
       "\\hline\n",
       "\t 10.34968 & 20.21379\\\\\n",
       "\\end{tabular}\n"
      ],
      "text/markdown": [
       "\n",
       "A tibble: 1 × 2\n",
       "\n",
       "| lower_ci &lt;dbl&gt; | upper_ci &lt;dbl&gt; |\n",
       "|---|---|\n",
       "| 10.34968 | 20.21379 |\n",
       "\n"
      ],
      "text/plain": [
       "  lower_ci upper_ci\n",
       "1 10.34968 20.21379"
      ]
     },
     "metadata": {},
     "output_type": "display_data"
    }
   ],
   "source": [
    "diff_in_mean_weights_ci <- diff_in_mean_weights_bootstrap_dist |> get_ci(level = 0.9, type = \"percentile\")\n",
    "diff_in_mean_weights_ci"
   ]
  },
  {
   "cell_type": "markdown",
   "id": "a60f7ce6-9154-47b8-9a4f-d13b8d75396c",
   "metadata": {},
   "source": [
    "*Table 7.1: Data frame containing lower and upper bounds of 90% confidence interval for the difference in mean weights bootstrap distribution.*"
   ]
  },
  {
   "cell_type": "code",
   "execution_count": 14,
   "id": "46b28f8b-51a2-45d0-8d3b-9a875417bd19",
   "metadata": {
    "vscode": {
     "languageId": "r"
    }
   },
   "outputs": [
    {
     "data": {
      "text/html": [
       "<table class=\"dataframe\">\n",
       "<caption>A tibble: 1 × 2</caption>\n",
       "<thead>\n",
       "\t<tr><th scope=col>lower_ci</th><th scope=col>upper_ci</th></tr>\n",
       "\t<tr><th scope=col>&lt;dbl&gt;</th><th scope=col>&lt;dbl&gt;</th></tr>\n",
       "</thead>\n",
       "<tbody>\n",
       "\t<tr><td>-1.524702</td><td>0.5887879</td></tr>\n",
       "</tbody>\n",
       "</table>\n"
      ],
      "text/latex": [
       "A tibble: 1 × 2\n",
       "\\begin{tabular}{ll}\n",
       " lower\\_ci & upper\\_ci\\\\\n",
       " <dbl> & <dbl>\\\\\n",
       "\\hline\n",
       "\t -1.524702 & 0.5887879\\\\\n",
       "\\end{tabular}\n"
      ],
      "text/markdown": [
       "\n",
       "A tibble: 1 × 2\n",
       "\n",
       "| lower_ci &lt;dbl&gt; | upper_ci &lt;dbl&gt; |\n",
       "|---|---|\n",
       "| -1.524702 | 0.5887879 |\n",
       "\n"
      ],
      "text/plain": [
       "  lower_ci  upper_ci \n",
       "1 -1.524702 0.5887879"
      ]
     },
     "metadata": {},
     "output_type": "display_data"
    }
   ],
   "source": [
    "diff_in_mean_lengths_ci <- diff_in_mean_lengths_bootstrap_dist |> get_ci(level = 0.9, type = \"percentile\")\n",
    "diff_in_mean_lengths_ci"
   ]
  },
  {
   "cell_type": "markdown",
   "id": "59903cb9-6b4e-43a1-a119-4d190712b5a4",
   "metadata": {},
   "source": [
    "*Table 7.2: Data frame containing lower and upper bounds of 90% confidence interval for the difference in mean lengths bootstrap distribution.*"
   ]
  },
  {
   "cell_type": "markdown",
   "id": "5d0caae6-1af7-4329-bb0b-27152480e964",
   "metadata": {},
   "source": [
    "Our next step was to visualize our confidence intervals for both variables with their bootstrap distributions. We also added a vertical line representing their respective test statistics, which was found from our hypothesis tests earlier."
   ]
  },
  {
   "cell_type": "code",
   "execution_count": 15,
   "id": "5d06ef14-acff-439e-9268-1ee577674008",
   "metadata": {
    "vscode": {
     "languageId": "r"
    }
   },
   "outputs": [
    {
     "data": {
      "image/png": "[encoded data removed]",
      "text/plain": [
       "plot without title"
      ]
     },
     "metadata": {
      "image/png": {
       "height": 420,
       "width": 420
      }
     },
     "output_type": "display_data"
    }
   ],
   "source": [
    "diff_in_mean_weights_ci_plot <- diff_in_mean_weights_bootstrap_dist |>\n",
    "    ggplot(aes(x = stat)) +\n",
    "    geom_histogram(binwidth = 0.5) +\n",
    "    geom_vline(xintercept = weight_test$estimate[1], colour = \"red\") +\n",
    "    annotate(\"rect\", xmin = diff_in_mean_weights_ci$lower_ci, xmax = diff_in_mean_weights_ci$upper_ci, ymin = 0, ymax = Inf,\n",
    "             fill = \"deepskyblue\",\n",
    "             alpha = 0.3) +\n",
    "    labs(title = \"Bootstrap Distribution with 90% Confidence Interval\",\n",
    "         x = \"Difference in Mean Gull Weights (g)\") +\n",
    "    theme(text = element_text(size=16))\n",
    "\n",
    "diff_in_mean_weights_ci_plot"
   ]
  },
  {
   "cell_type": "markdown",
   "id": "c9741d21-67eb-49f4-8542-6a9f8d488054",
   "metadata": {},
   "source": [
    "*Figure 2.1: Bootstrap distribution for difference in mean gull weights. 90% confidence interval is highlighted in blue, and test statistic marked with a red line.*"
   ]
  },
  {
   "cell_type": "code",
   "execution_count": 16,
   "id": "71aac0f2-3a32-44e5-9b76-c001e1dc61be",
   "metadata": {
    "scrolled": true,
    "vscode": {
     "languageId": "r"
    }
   },
   "outputs": [
    {
     "data": {
      "image/png": "[encoded data removed]",
      "text/plain": [
       "plot without title"
      ]
     },
     "metadata": {
      "image/png": {
       "height": 420,
       "width": 420
      }
     },
     "output_type": "display_data"
    }
   ],
   "source": [
    "diff_in_means_ci_plot <- diff_in_mean_lengths_bootstrap_dist |>\n",
    "    ggplot(aes(x = stat)) +\n",
    "    geom_histogram(binwidth = 0.15) +\n",
    "    geom_vline(xintercept = length_test$estimate[1], colour = \"red\") +\n",
    "    annotate(\"rect\", xmin = diff_in_mean_lengths_ci$lower_ci, xmax = diff_in_mean_lengths_ci$upper_ci, ymin = 0, ymax = Inf,\n",
    "             fill = \"deepskyblue\",\n",
    "             alpha = 0.3) +\n",
    "    labs(title = \"Bootstrap Distribution with 90% Confidence Interval\",\n",
    "         x = \"Difference in Mean Gull Lengths (cm)\") +\n",
    "    theme(text = element_text(size=16))\n",
    "diff_in_means_ci_plot"
   ]
  },
  {
   "cell_type": "markdown",
   "id": "d879b82b-3b8a-41fa-a65b-b47a251ca028",
   "metadata": {},
   "source": [
    "*Figure 2.2: Bootstrap distribution for difference in mean gull lengths. 90% confidence interval is highlighted in blue, and test statistic marked with a red line.*"
   ]
  },
  {
   "cell_type": "markdown",
   "id": "48beb2d5-525a-4266-87ea-cfb5d9b80bf6",
   "metadata": {},
   "source": [
    "#### Boostrapping vs Asymptotics:\n",
    "In this analysis, both bootstrapping and asymptotics could be considered appropriate methods. Bootstrapping is a resampling technique that can provide robust results, particularly when the sample size is relatively small, and when the underlying assumptions of parametric tests might be violated. Asymptotics, on the other hand, rely on large-sample theory and may be appropriate when the sample size is sufficiently large and data are approximately normally distributed. \n",
    "\n",
    "\n",
    "The results from both methods are generally consistent in our analysis, showing differences in mean weights to be statistically significant and differences in mean lengths to be non-significant. While both methods yield similar conclusions, bootstrapping might offer a more reliable approach when the assumptions of normality are not met. However, given that our sample size is reasonable and the Welch t-test is robust against violations of normality, asymptotics are also suitable. Although the results are similar, the small differences between them is due to the different assumptions and methods used in each approach as mentioned above. \n",
    "\n",
    "\n",
    "Ultimately, our findings provide consistent evidence that there are statistically significant differences in mean weights between winter and summer seasons for female red-billed gulls. In contrast, mean lengths do not exhibit significant differences between the two seasons."
   ]
  },
  {
   "cell_type": "markdown",
   "id": "b0ffb0f9-ce57-4daa-89f0-332cdb61334f",
   "metadata": {},
   "source": [
    "## Discussion\n",
    "#### Summary of Findings\n",
    "From our analysis of female red-billed gulls in New Zealand, we observed the following:\n",
    "\n",
    "Weight Differences: There are statistically significant differences in mean weights between winter and summer seasons. The mean weight of female gulls during the summer (268.52 grams) is significantly higher than that during the winter (253.22 grams).\n",
    "\n",
    "Length Differences: However, the mean lengths of female gulls did not exhibit statistically significant differences between the two seasons. The mean length during the summer (35.43 cm) and winter (35.93 cm) remained relatively consistent.\n",
    "#### Implications/Imact\n",
    "These findings carry important implications for understanding the seasonal dynamics of female red-billed gulls:\n",
    "\n",
    "Feeding and Breeding Patterns: The significant weight difference suggests that gulls might experience varied feeding and breeding behaviors during different seasons. The higher weight during summer could be attributed to increased access to food resources like krill.\n",
    "\n",
    "Climate and Environmental Factors: Climate variations, such as temperature and food availability, could impact gull weights differently across seasons. Understanding these factors is crucial for gull population management and conservation efforts.\n",
    "#### Expected vs Observed Results\n",
    "Our finding of significant weight differences aligns with our initial expectation. Seasonal variations in food availability, with krill being more abundant during the summer, likely contribute to the observed weight differences. However, the lack of significant differences in mean lengths was unexpected, indicating that gulls might not experience substantial physical growth variations between seasons.\n",
    "#### Future Implications\n",
    "This study opens up avenues for further investigations:\n",
    "<ol>\n",
    "<li>Feeding Ecology: Future research could delve into the specific dietary choices and foraging behaviors of gulls during different seasons, shedding light on their preferred food sources and how these impact weight variations.</li>\n",
    "\n",
    "<li>Climate Change Impact: Considering the implications of climate change on the availability of krill and other food sources, exploring the long-term impact of changing environmental conditions on gull populations could provide valuable insights.</li>\n",
    "\n",
    "<li>Interplay of Factors: Investigating the interplay of factors beyond seasons, such as location and human activities, can deepen our understanding of the complex dynamics affecting gull weights and lengths.</li>\n",
    "\n",
    "<li>Population Health: Correlating weight variations with other health indicators, such as reproductive success and survival rates, could provide a comprehensive view of how seasonal differences impact gull populations' overall health and viability.</li>\n",
    "</ol>"
   ]
  },
  {
   "cell_type": "markdown",
   "id": "3460aade-9c44-4b9e-9fae-205fe12c0998",
   "metadata": {},
   "source": [
    "#### Conclusion\n",
    "In conclusion, our study sheds light on the seasonal weight differences among female red-billed gulls in New Zealand, while highlighting the importance of considering various environmental and ecological factors. The observed patterns provide a foundation for further research and conservation efforts aimed at understanding and protecting these avian populations in the face of changing conditions."
   ]
  },
  {
   "cell_type": "markdown",
   "id": "d2825d92-83a7-44ca-9e8e-6ea6f57505a7",
   "metadata": {},
   "source": [
    "## References\n",
    "1. Dataset. NZGRAPHER. (n.d.). https://grapher.jake4maths.com/?folder=sneddon&dataset=GULLS.csv\n",
    "2. GULLS.CSV information. Inference. (n.d.). https://sites.google.com/view/inference/data-sets#h.p_IlT79LKK_MeP\n",
    "3. Mills, J. A., Yarrall, J. W., Bradford-Grieve, J. M., Uddstrom, M. J., Renwick, J. A., & Merilä, J. (2008). The impact of climate fluctuation on food availability and reproductive performance of the planktivorous red-billed gulllarus novaehollandiae scopulinus. Journal of Animal Ecology, 77(6), 1129–1142. https://doi.org/10.1111/j.1365-2656.2008.01383.x \n",
    "4. Pacific Marine Environmental Laboratory. (n.d.). La Niña faqs. El Niñ0 Theme Page. https://www.pmel.noaa.gov/elnino/lanina-faq \n",
    "5. Red-billed gull: Tarāpunga: New Zealand Birds Online. New Zealand Birds Online - The digital encyclopaedia of New Zealand birds. (n.d.). https://nzbirdsonline.org.nz/species/red-billed-gull"
   ]
  },
  {
   "cell_type": "code",
   "execution_count": null,
   "id": "20766210-8cee-411f-a4ff-8edaac730002",
   "metadata": {
    "vscode": {
     "languageId": "r"
    }
   },
   "outputs": [],
   "source": []
  }
 ],
 "metadata": {
  "kernelspec": {
   "display_name": "R",
   "language": "R",
   "name": "ir"
  },
  "language_info": {
   "codemirror_mode": "r",
   "file_extension": ".r",
   "mimetype": "text/x-r-source",
   "name": "R",
   "pygments_lexer": "r",
   "version": "4.1.3"
  }
 },
 "nbformat": 4,
 "nbformat_minor": 5
}
