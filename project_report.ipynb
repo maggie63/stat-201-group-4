{
 "cells": [
  {
   "cell_type": "markdown",
   "id": "5666d7d1-3166-4cad-b7db-0e1c045bab97",
   "metadata": {},
   "source": [
    "# Seasonal Effects on Female Red-Billed Gull Size in New Zealand.\n",
    "**Prepared by Group 4: Arnab Das, Maggie Wang, Paul Zeng, Dylan Zhang**"
   ]
  },
  {
   "cell_type": "markdown",
   "id": "56ff44c8-35a4-47ac-bf73-27c2ccee8996",
   "metadata": {},
   "source": [
    "## Introduction\n",
    "The red-billed gull is the most common gull on the New Zealand coast. It is frequently seen in coastal towns, garbage dumps, and at fish processing facilities (Red-billed gull: Tarāpunga, n.d.). We would like to find the differences in means of the weights and lengths of the female red-billed gull based on the two season climates. We believe that the primary and underlying cause of the size variations within a year for the red-billed gulls lies in the seasonal effects that bring about change in various aspects of their habits.\n",
    "\n",
    "Some seasonal effects include:\n",
    "- An extremely long egg-laying period that can extend from mid-September to January.\n",
    "- The main food at the largest colonies is the euphausiid Nyctiphanes australis (krill) which occurs more abundantly within the spring season and early summer (Mills et al., 2008).\n",
    "- The relative abundance of krill has been correlated positively with the Southern Oscillation Index (SOI) (Mills et al., 2008). The SOI is calculated using the differences in pressure between Tahiti and Darwin, which typically peaks during southern hemisphere spring (September - December) (Pacific Marine Environmental Laboratory, n.d.).\n",
    "- At Kaikoura during the breeding season adult gulls can sustain themselves on alternative foods such as earthworms, small fish, garbage and kelp flies, but they are dependent upon an abundant and regular supply of the surface-swarming krill for successful breeding. Outside of the breeding season the diet is highly variable. Some still feed at sea; others feed on small invertebrates along the shore, or from human sources such as handouts in towns or cities, offal being discarded from fishing boats and garbage at rubbish dumps.\n",
    "\n",
    "In this report, we will use the GULLS.csv dataset from NZGRAPHER (Dataset, n.d.). The dataset contains information on the weight and length of gulls, as well location (Maraetai, Muriwai, or Piha), coast (east or west), season (summer or winter) and sex (male or female) of the gull.\n"
   ]
  },
  {
   "cell_type": "markdown",
   "id": "6c0a6ac1-2625-4aad-9d4c-79cfedaccc75",
   "metadata": {},
   "source": [
    "## Methods and Results\n",
    "We first loaded all libraries pertaining and relevant for this data analysis."
   ]
  },
  {
   "cell_type": "code",
   "execution_count": 1,
   "id": "7606616f-cf8b-4fbf-ada2-070f4aff519f",
   "metadata": {},
   "outputs": [
    {
     "name": "stderr",
     "output_type": "stream",
     "text": [
      "── \u001b[1mAttaching packages\u001b[22m ─────────────────────────────────────── tidyverse 1.3.2 ──\n",
      "\u001b[32m✔\u001b[39m \u001b[34mggplot2\u001b[39m 3.3.6      \u001b[32m✔\u001b[39m \u001b[34mpurrr  \u001b[39m 0.3.4 \n",
      "\u001b[32m✔\u001b[39m \u001b[34mtibble \u001b[39m 3.1.8      \u001b[32m✔\u001b[39m \u001b[34mdplyr  \u001b[39m 1.0.10\n",
      "\u001b[32m✔\u001b[39m \u001b[34mtidyr  \u001b[39m 1.2.1      \u001b[32m✔\u001b[39m \u001b[34mstringr\u001b[39m 1.4.1 \n",
      "\u001b[32m✔\u001b[39m \u001b[34mreadr  \u001b[39m 2.1.2      \u001b[32m✔\u001b[39m \u001b[34mforcats\u001b[39m 0.5.2 \n",
      "── \u001b[1mConflicts\u001b[22m ────────────────────────────────────────── tidyverse_conflicts() ──\n",
      "\u001b[31m✖\u001b[39m \u001b[34mdplyr\u001b[39m::\u001b[32mfilter()\u001b[39m masks \u001b[34mstats\u001b[39m::filter()\n",
      "\u001b[31m✖\u001b[39m \u001b[34mdplyr\u001b[39m::\u001b[32mlag()\u001b[39m    masks \u001b[34mstats\u001b[39m::lag()\n"
     ]
    }
   ],
   "source": [
    "# Loading all the required libraries\n",
    "library(infer)\n",
    "library(tidyverse)"
   ]
  },
  {
   "cell_type": "markdown",
   "id": "f41a491c-baee-49ac-8255-db4987a50107",
   "metadata": {},
   "source": [
    "Since the data was stored elsewhere, we used `read_csv` to import from the website and loaded the data onto our worksheet. We used `as_factor` to convert the variables of location, coast, season, and sex from characters to factors, to make it easier to perform statistical operations on them."
   ]
  },
  {
   "cell_type": "code",
   "execution_count": 4,
   "id": "8d7274b9-1705-442f-be3f-916cfe231b9d",
   "metadata": {},
   "outputs": [
    {
     "name": "stderr",
     "output_type": "stream",
     "text": [
      "\u001b[1mRows: \u001b[22m\u001b[34m2487\u001b[39m \u001b[1mColumns: \u001b[22m\u001b[34m6\u001b[39m\n",
      "\u001b[36m──\u001b[39m \u001b[1mColumn specification\u001b[22m \u001b[36m────────────────────────────────────────────────────────\u001b[39m\n",
      "\u001b[1mDelimiter:\u001b[22m \",\"\n",
      "\u001b[31mchr\u001b[39m (4): LOCATION, COAST, SEASON, SEX\n",
      "\u001b[32mdbl\u001b[39m (2): WEIGHT, LENGTH\n",
      "\n",
      "\u001b[36mℹ\u001b[39m Use `spec()` to retrieve the full column specification for this data.\n",
      "\u001b[36mℹ\u001b[39m Specify the column types or set `show_col_types = FALSE` to quiet this message.\n"
     ]
    },
    {
     "data": {
      "text/html": [
       "<table class=\"dataframe\">\n",
       "<caption>A tibble: 6 × 6</caption>\n",
       "<thead>\n",
       "\t<tr><th scope=col>WEIGHT</th><th scope=col>LENGTH</th><th scope=col>LOCATION</th><th scope=col>COAST</th><th scope=col>SEASON</th><th scope=col>SEX</th></tr>\n",
       "\t<tr><th scope=col>&lt;dbl&gt;</th><th scope=col>&lt;dbl&gt;</th><th scope=col>&lt;fct&gt;</th><th scope=col>&lt;fct&gt;</th><th scope=col>&lt;fct&gt;</th><th scope=col>&lt;fct&gt;</th></tr>\n",
       "</thead>\n",
       "<tbody>\n",
       "\t<tr><td>262</td><td>38.9</td><td>MARAETAI</td><td>EAST</td><td>WINTER</td><td>MALE  </td></tr>\n",
       "\t<tr><td>300</td><td>41.3</td><td>MURIWAI </td><td>WEST</td><td>SUMMER</td><td>MALE  </td></tr>\n",
       "\t<tr><td>250</td><td>36.6</td><td>MURIWAI </td><td>WEST</td><td>WINTER</td><td>MALE  </td></tr>\n",
       "\t<tr><td>242</td><td>36.0</td><td>MARAETAI</td><td>EAST</td><td>WINTER</td><td>FEMALE</td></tr>\n",
       "\t<tr><td>261</td><td>37.1</td><td>MURIWAI </td><td>WEST</td><td>WINTER</td><td>MALE  </td></tr>\n",
       "\t<tr><td>262</td><td>38.2</td><td>MURIWAI </td><td>WEST</td><td>WINTER</td><td>MALE  </td></tr>\n",
       "</tbody>\n",
       "</table>\n"
      ],
      "text/latex": [
       "A tibble: 6 × 6\n",
       "\\begin{tabular}{llllll}\n",
       " WEIGHT & LENGTH & LOCATION & COAST & SEASON & SEX\\\\\n",
       " <dbl> & <dbl> & <fct> & <fct> & <fct> & <fct>\\\\\n",
       "\\hline\n",
       "\t 262 & 38.9 & MARAETAI & EAST & WINTER & MALE  \\\\\n",
       "\t 300 & 41.3 & MURIWAI  & WEST & SUMMER & MALE  \\\\\n",
       "\t 250 & 36.6 & MURIWAI  & WEST & WINTER & MALE  \\\\\n",
       "\t 242 & 36.0 & MARAETAI & EAST & WINTER & FEMALE\\\\\n",
       "\t 261 & 37.1 & MURIWAI  & WEST & WINTER & MALE  \\\\\n",
       "\t 262 & 38.2 & MURIWAI  & WEST & WINTER & MALE  \\\\\n",
       "\\end{tabular}\n"
      ],
      "text/markdown": [
       "\n",
       "A tibble: 6 × 6\n",
       "\n",
       "| WEIGHT &lt;dbl&gt; | LENGTH &lt;dbl&gt; | LOCATION &lt;fct&gt; | COAST &lt;fct&gt; | SEASON &lt;fct&gt; | SEX &lt;fct&gt; |\n",
       "|---|---|---|---|---|---|\n",
       "| 262 | 38.9 | MARAETAI | EAST | WINTER | MALE   |\n",
       "| 300 | 41.3 | MURIWAI  | WEST | SUMMER | MALE   |\n",
       "| 250 | 36.6 | MURIWAI  | WEST | WINTER | MALE   |\n",
       "| 242 | 36.0 | MARAETAI | EAST | WINTER | FEMALE |\n",
       "| 261 | 37.1 | MURIWAI  | WEST | WINTER | MALE   |\n",
       "| 262 | 38.2 | MURIWAI  | WEST | WINTER | MALE   |\n",
       "\n"
      ],
      "text/plain": [
       "  WEIGHT LENGTH LOCATION COAST SEASON SEX   \n",
       "1 262    38.9   MARAETAI EAST  WINTER MALE  \n",
       "2 300    41.3   MURIWAI  WEST  SUMMER MALE  \n",
       "3 250    36.6   MURIWAI  WEST  WINTER MALE  \n",
       "4 242    36.0   MARAETAI EAST  WINTER FEMALE\n",
       "5 261    37.1   MURIWAI  WEST  WINTER MALE  \n",
       "6 262    38.2   MURIWAI  WEST  WINTER MALE  "
      ]
     },
     "metadata": {},
     "output_type": "display_data"
    }
   ],
   "source": [
    "# Reading dataframe from the internet and storing it to a variable\n",
    "gulls <- read_csv(\"https://raw.githubusercontent.com/maggie63/stat-201-group-4/main/gulls_data.csv\") |>\n",
    "    mutate(LOCATION = as_factor(LOCATION), COAST = as_factor(COAST), SEASON = as_factor(SEASON), SEX = as_factor(SEX)) |>\n",
    "    filter((!is.na(WEIGHT)))\n",
    "\n",
    "# Printing the first few rows of the dataframe\n",
    "head(gulls)"
   ]
  },
  {
   "cell_type": "markdown",
   "id": "df05641d-69be-406d-bd1c-e532c1c625a9",
   "metadata": {},
   "source": [
    "*Table 1.0: First few rows of \"Gulls Data Set\" with 2487 rows and 6 columns*\n",
    "\n",
    "\n",
    "We then checked whether the seasons are represented similarly/equally and the number of samples is more than 30 per season."
   ]
  },
  {
   "cell_type": "code",
   "execution_count": 5,
   "id": "906bd856-507b-4035-b691-2bb3e1f907ec",
   "metadata": {},
   "outputs": [
    {
     "data": {
      "text/html": [
       "<table class=\"dataframe\">\n",
       "<caption>A tibble: 2 × 2</caption>\n",
       "<thead>\n",
       "\t<tr><th scope=col>SEASON</th><th scope=col>n</th></tr>\n",
       "\t<tr><th scope=col>&lt;fct&gt;</th><th scope=col>&lt;int&gt;</th></tr>\n",
       "</thead>\n",
       "<tbody>\n",
       "\t<tr><td>WINTER</td><td>615</td></tr>\n",
       "\t<tr><td>SUMMER</td><td>665</td></tr>\n",
       "</tbody>\n",
       "</table>\n"
      ],
      "text/latex": [
       "A tibble: 2 × 2\n",
       "\\begin{tabular}{ll}\n",
       " SEASON & n\\\\\n",
       " <fct> & <int>\\\\\n",
       "\\hline\n",
       "\t WINTER & 615\\\\\n",
       "\t SUMMER & 665\\\\\n",
       "\\end{tabular}\n"
      ],
      "text/markdown": [
       "\n",
       "A tibble: 2 × 2\n",
       "\n",
       "| SEASON &lt;fct&gt; | n &lt;int&gt; |\n",
       "|---|---|\n",
       "| WINTER | 615 |\n",
       "| SUMMER | 665 |\n",
       "\n"
      ],
      "text/plain": [
       "  SEASON n  \n",
       "1 WINTER 615\n",
       "2 SUMMER 665"
      ]
     },
     "metadata": {},
     "output_type": "display_data"
    }
   ],
   "source": [
    "# Group data to see if the categorical variables are representated properly\n",
    "n_obs<- gulls |>\n",
    "    select(-LENGTH) |>\n",
    "    filter(SEX == \"FEMALE\" ) |>\n",
    "    group_by(SEASON) |>\n",
    "    summarise(n = n())\n",
    "n_obs"
   ]
  },
  {
   "cell_type": "markdown",
   "id": "60147328-b6ae-470c-93cf-6d2c2804a8bd",
   "metadata": {},
   "source": [
    "Since the population is representated properly in the sample, we were able to move on with the rest of the analysis.\n",
    "\n",
    "We began by filtering the data to select only female gulls, and to get rid of any rows that may have been missing data. We created two different data frames, one for weight and one for length."
   ]
  },
  {
   "cell_type": "code",
   "execution_count": 12,
   "id": "b91d0245-f88d-4734-a467-d61a236e2850",
   "metadata": {},
   "outputs": [
    {
     "data": {
      "text/html": [
       "<table class=\"dataframe\">\n",
       "<caption>A tibble: 6 × 3</caption>\n",
       "<thead>\n",
       "\t<tr><th scope=col>WEIGHT</th><th scope=col>LENGTH</th><th scope=col>SEASON</th></tr>\n",
       "\t<tr><th scope=col>&lt;dbl&gt;</th><th scope=col>&lt;dbl&gt;</th><th scope=col>&lt;fct&gt;</th></tr>\n",
       "</thead>\n",
       "<tbody>\n",
       "\t<tr><td>242</td><td>36.0</td><td>WINTER</td></tr>\n",
       "\t<tr><td>278</td><td>35.2</td><td>SUMMER</td></tr>\n",
       "\t<tr><td>278</td><td>37.4</td><td>SUMMER</td></tr>\n",
       "\t<tr><td>247</td><td>36.9</td><td>WINTER</td></tr>\n",
       "\t<tr><td>268</td><td>36.6</td><td>SUMMER</td></tr>\n",
       "\t<tr><td>274</td><td>35.4</td><td>SUMMER</td></tr>\n",
       "</tbody>\n",
       "</table>\n"
      ],
      "text/latex": [
       "A tibble: 6 × 3\n",
       "\\begin{tabular}{lll}\n",
       " WEIGHT & LENGTH & SEASON\\\\\n",
       " <dbl> & <dbl> & <fct>\\\\\n",
       "\\hline\n",
       "\t 242 & 36.0 & WINTER\\\\\n",
       "\t 278 & 35.2 & SUMMER\\\\\n",
       "\t 278 & 37.4 & SUMMER\\\\\n",
       "\t 247 & 36.9 & WINTER\\\\\n",
       "\t 268 & 36.6 & SUMMER\\\\\n",
       "\t 274 & 35.4 & SUMMER\\\\\n",
       "\\end{tabular}\n"
      ],
      "text/markdown": [
       "\n",
       "A tibble: 6 × 3\n",
       "\n",
       "| WEIGHT &lt;dbl&gt; | LENGTH &lt;dbl&gt; | SEASON &lt;fct&gt; |\n",
       "|---|---|---|\n",
       "| 242 | 36.0 | WINTER |\n",
       "| 278 | 35.2 | SUMMER |\n",
       "| 278 | 37.4 | SUMMER |\n",
       "| 247 | 36.9 | WINTER |\n",
       "| 268 | 36.6 | SUMMER |\n",
       "| 274 | 35.4 | SUMMER |\n",
       "\n"
      ],
      "text/plain": [
       "  WEIGHT LENGTH SEASON\n",
       "1 242    36.0   WINTER\n",
       "2 278    35.2   SUMMER\n",
       "3 278    37.4   SUMMER\n",
       "4 247    36.9   WINTER\n",
       "5 268    36.6   SUMMER\n",
       "6 274    35.4   SUMMER"
      ]
     },
     "metadata": {},
     "output_type": "display_data"
    },
    {
     "data": {
      "text/html": [
       "<table class=\"dataframe\">\n",
       "<caption>A tibble: 6 × 3</caption>\n",
       "<thead>\n",
       "\t<tr><th scope=col>WEIGHT</th><th scope=col>LENGTH</th><th scope=col>SEASON</th></tr>\n",
       "\t<tr><th scope=col>&lt;dbl&gt;</th><th scope=col>&lt;dbl&gt;</th><th scope=col>&lt;fct&gt;</th></tr>\n",
       "</thead>\n",
       "<tbody>\n",
       "\t<tr><td>242</td><td>36.0</td><td>WINTER</td></tr>\n",
       "\t<tr><td>278</td><td>35.2</td><td>SUMMER</td></tr>\n",
       "\t<tr><td>278</td><td>37.4</td><td>SUMMER</td></tr>\n",
       "\t<tr><td>247</td><td>36.9</td><td>WINTER</td></tr>\n",
       "\t<tr><td>268</td><td>36.6</td><td>SUMMER</td></tr>\n",
       "\t<tr><td>274</td><td>35.4</td><td>SUMMER</td></tr>\n",
       "</tbody>\n",
       "</table>\n"
      ],
      "text/latex": [
       "A tibble: 6 × 3\n",
       "\\begin{tabular}{lll}\n",
       " WEIGHT & LENGTH & SEASON\\\\\n",
       " <dbl> & <dbl> & <fct>\\\\\n",
       "\\hline\n",
       "\t 242 & 36.0 & WINTER\\\\\n",
       "\t 278 & 35.2 & SUMMER\\\\\n",
       "\t 278 & 37.4 & SUMMER\\\\\n",
       "\t 247 & 36.9 & WINTER\\\\\n",
       "\t 268 & 36.6 & SUMMER\\\\\n",
       "\t 274 & 35.4 & SUMMER\\\\\n",
       "\\end{tabular}\n"
      ],
      "text/markdown": [
       "\n",
       "A tibble: 6 × 3\n",
       "\n",
       "| WEIGHT &lt;dbl&gt; | LENGTH &lt;dbl&gt; | SEASON &lt;fct&gt; |\n",
       "|---|---|---|\n",
       "| 242 | 36.0 | WINTER |\n",
       "| 278 | 35.2 | SUMMER |\n",
       "| 278 | 37.4 | SUMMER |\n",
       "| 247 | 36.9 | WINTER |\n",
       "| 268 | 36.6 | SUMMER |\n",
       "| 274 | 35.4 | SUMMER |\n",
       "\n"
      ],
      "text/plain": [
       "  WEIGHT LENGTH SEASON\n",
       "1 242    36.0   WINTER\n",
       "2 278    35.2   SUMMER\n",
       "3 278    37.4   SUMMER\n",
       "4 247    36.9   WINTER\n",
       "5 268    36.6   SUMMER\n",
       "6 274    35.4   SUMMER"
      ]
     },
     "metadata": {},
     "output_type": "display_data"
    }
   ],
   "source": [
    "# Filtering and grouping data\n",
    "gull_weights <- gulls |> \n",
    "    filter(SEX == \"FEMALE\" & (!is.na(WEIGHT))) |>\n",
    "    select(WEIGHT, LENGTH, SEASON)\n",
    "\n",
    "gull_lengths <- gulls |> \n",
    "    filter(SEX == \"FEMALE\" & (!is.na(LENGTH))) |>\n",
    "    select(WEIGHT, LENGTH, SEASON)\n",
    "\n",
    "head(gull_weights)\n",
    "head(gull_lengths)"
   ]
  },
  {
   "cell_type": "markdown",
   "id": "f1a4fe40-3938-4eac-8845-c9894b006b8f",
   "metadata": {},
   "source": [
    "Next, we drew a single random sample of size 50, making sure to set the seed first so that our results for randomization are reproducible. We then calculated the sample mean and sample standard error for both the weight and length, and stored them in separate data frames, along with the number of observations from each season."
   ]
  },
  {
   "cell_type": "code",
   "execution_count": 14,
   "id": "395b07cf-1604-4d04-8a4a-704dccade166",
   "metadata": {},
   "outputs": [
    {
     "data": {
      "text/html": [
       "<table class=\"dataframe\">\n",
       "<caption>A tibble: 2 × 4</caption>\n",
       "<thead>\n",
       "\t<tr><th scope=col>SEASON</th><th scope=col>n</th><th scope=col>sample_mean</th><th scope=col>sample_std_error</th></tr>\n",
       "\t<tr><th scope=col>&lt;fct&gt;</th><th scope=col>&lt;int&gt;</th><th scope=col>&lt;dbl&gt;</th><th scope=col>&lt;dbl&gt;</th></tr>\n",
       "</thead>\n",
       "<tbody>\n",
       "\t<tr><td>WINTER</td><td>27</td><td>253.2222</td><td>1.860776</td></tr>\n",
       "\t<tr><td>SUMMER</td><td>23</td><td>268.5217</td><td>2.331151</td></tr>\n",
       "</tbody>\n",
       "</table>\n"
      ],
      "text/latex": [
       "A tibble: 2 × 4\n",
       "\\begin{tabular}{llll}\n",
       " SEASON & n & sample\\_mean & sample\\_std\\_error\\\\\n",
       " <fct> & <int> & <dbl> & <dbl>\\\\\n",
       "\\hline\n",
       "\t WINTER & 27 & 253.2222 & 1.860776\\\\\n",
       "\t SUMMER & 23 & 268.5217 & 2.331151\\\\\n",
       "\\end{tabular}\n"
      ],
      "text/markdown": [
       "\n",
       "A tibble: 2 × 4\n",
       "\n",
       "| SEASON &lt;fct&gt; | n &lt;int&gt; | sample_mean &lt;dbl&gt; | sample_std_error &lt;dbl&gt; |\n",
       "|---|---|---|---|\n",
       "| WINTER | 27 | 253.2222 | 1.860776 |\n",
       "| SUMMER | 23 | 268.5217 | 2.331151 |\n",
       "\n"
      ],
      "text/plain": [
       "  SEASON n  sample_mean sample_std_error\n",
       "1 WINTER 27 253.2222    1.860776        \n",
       "2 SUMMER 23 268.5217    2.331151        "
      ]
     },
     "metadata": {},
     "output_type": "display_data"
    },
    {
     "data": {
      "text/html": [
       "<table class=\"dataframe\">\n",
       "<caption>A tibble: 2 × 4</caption>\n",
       "<thead>\n",
       "\t<tr><th scope=col>SEASON</th><th scope=col>n</th><th scope=col>sample_mean</th><th scope=col>sample_std_error</th></tr>\n",
       "\t<tr><th scope=col>&lt;fct&gt;</th><th scope=col>&lt;int&gt;</th><th scope=col>&lt;dbl&gt;</th><th scope=col>&lt;dbl&gt;</th></tr>\n",
       "</thead>\n",
       "<tbody>\n",
       "\t<tr><td>WINTER</td><td>19</td><td>35.92632</td><td>0.5650566</td></tr>\n",
       "\t<tr><td>SUMMER</td><td>31</td><td>35.42581</td><td>0.3314669</td></tr>\n",
       "</tbody>\n",
       "</table>\n"
      ],
      "text/latex": [
       "A tibble: 2 × 4\n",
       "\\begin{tabular}{llll}\n",
       " SEASON & n & sample\\_mean & sample\\_std\\_error\\\\\n",
       " <fct> & <int> & <dbl> & <dbl>\\\\\n",
       "\\hline\n",
       "\t WINTER & 19 & 35.92632 & 0.5650566\\\\\n",
       "\t SUMMER & 31 & 35.42581 & 0.3314669\\\\\n",
       "\\end{tabular}\n"
      ],
      "text/markdown": [
       "\n",
       "A tibble: 2 × 4\n",
       "\n",
       "| SEASON &lt;fct&gt; | n &lt;int&gt; | sample_mean &lt;dbl&gt; | sample_std_error &lt;dbl&gt; |\n",
       "|---|---|---|---|\n",
       "| WINTER | 19 | 35.92632 | 0.5650566 |\n",
       "| SUMMER | 31 | 35.42581 | 0.3314669 |\n",
       "\n"
      ],
      "text/plain": [
       "  SEASON n  sample_mean sample_std_error\n",
       "1 WINTER 19 35.92632    0.5650566       \n",
       "2 SUMMER 31 35.42581    0.3314669       "
      ]
     },
     "metadata": {},
     "output_type": "display_data"
    }
   ],
   "source": [
    "# Setting the seed\n",
    "set.seed(1)\n",
    "\n",
    "# Drawing a sample of size 50\n",
    "gull_weight_sample <- gull_weights |> sample_n(size = 50)\n",
    "gull_length_sample <- gull_lengths |> sample_n(size = 50)\n",
    "\n",
    "# Computing estimates\n",
    "gull_weight_summary <- gull_weight_sample |>\n",
    "    group_by(SEASON) |>\n",
    "    summarise(n = n(),\n",
    "              sample_mean = mean(WEIGHT), \n",
    "              sample_std_error = sd(WEIGHT) / sqrt(n))\n",
    "\n",
    "gull_length_summary <- gull_length_sample |>\n",
    "    group_by(SEASON) |>\n",
    "    summarise(n = n(),\n",
    "              sample_mean = mean(LENGTH), \n",
    "              sample_std_error = sd(LENGTH) / sqrt(n))\n",
    "\n",
    "gull_weight_summary\n",
    "gull_length_summary"
   ]
  },
  {
   "cell_type": "markdown",
   "id": "b0ffb0f9-ce57-4daa-89f0-332cdb61334f",
   "metadata": {},
   "source": [
    "## Discussion"
   ]
  },
  {
   "cell_type": "markdown",
   "id": "d2825d92-83a7-44ca-9e8e-6ea6f57505a7",
   "metadata": {},
   "source": [
    "## References\n",
    "1. Dataset. NZGRAPHER. (n.d.). https://grapher.jake4maths.com/?folder=sneddon&dataset=GULLS.csv\n",
    "2. GULLS.CSV information. Inference. (n.d.). https://sites.google.com/view/inference/data-sets#h.p_IlT79LKK_MeP\n",
    "3. Mills, J. A., Yarrall, J. W., Bradford-Grieve, J. M., Uddstrom, M. J., Renwick, J. A., & Merilä, J. (2008). The impact of climate fluctuation on food availability and reproductive performance of the planktivorous red-billed gulllarus novaehollandiae scopulinus. Journal of Animal Ecology, 77(6), 1129–1142. https://doi.org/10.1111/j.1365-2656.2008.01383.x \n",
    "4. Pacific Marine Environmental Laboratory. (n.d.). La Niña faqs. El Niñ0 Theme Page. https://www.pmel.noaa.gov/elnino/lanina-faq \n",
    "5. Red-billed gull: Tarāpunga: New Zealand Birds Online. New Zealand Birds Online - The digital encyclopaedia of New Zealand birds. (n.d.). https://nzbirdsonline.org.nz/species/red-billed-gull"
   ]
  },
  {
   "cell_type": "code",
   "execution_count": null,
   "id": "20766210-8cee-411f-a4ff-8edaac730002",
   "metadata": {},
   "outputs": [],
   "source": []
  }
 ],
 "metadata": {
  "kernelspec": {
   "display_name": "R",
   "language": "R",
   "name": "ir"
  },
  "language_info": {
   "codemirror_mode": "r",
   "file_extension": ".r",
   "mimetype": "text/x-r-source",
   "name": "R",
   "pygments_lexer": "r",
   "version": "4.1.3"
  }
 },
 "nbformat": 4,
 "nbformat_minor": 5
}
