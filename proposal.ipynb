{
 "cells": [
  {
   "cell_type": "code",
   "execution_count": 1,
   "id": "e54d8798-a546-4aaa-936a-aaffda3281bc",
   "metadata": {
    "tags": []
   },
   "outputs": [
    {
     "name": "stderr",
     "output_type": "stream",
     "text": [
      "── \u001b[1mAttaching packages\u001b[22m ─────────────────────────────────────── tidyverse 1.3.2 ──\n",
      "\u001b[32m✔\u001b[39m \u001b[34mggplot2\u001b[39m 3.3.6      \u001b[32m✔\u001b[39m \u001b[34mpurrr  \u001b[39m 0.3.4 \n",
      "\u001b[32m✔\u001b[39m \u001b[34mtibble \u001b[39m 3.1.8      \u001b[32m✔\u001b[39m \u001b[34mdplyr  \u001b[39m 1.0.10\n",
      "\u001b[32m✔\u001b[39m \u001b[34mtidyr  \u001b[39m 1.2.1      \u001b[32m✔\u001b[39m \u001b[34mstringr\u001b[39m 1.4.1 \n",
      "\u001b[32m✔\u001b[39m \u001b[34mreadr  \u001b[39m 2.1.2      \u001b[32m✔\u001b[39m \u001b[34mforcats\u001b[39m 0.5.2 \n",
      "── \u001b[1mConflicts\u001b[22m ────────────────────────────────────────── tidyverse_conflicts() ──\n",
      "\u001b[31m✖\u001b[39m \u001b[34mdplyr\u001b[39m::\u001b[32mfilter()\u001b[39m masks \u001b[34mstats\u001b[39m::filter()\n",
      "\u001b[31m✖\u001b[39m \u001b[34mdplyr\u001b[39m::\u001b[32mlag()\u001b[39m    masks \u001b[34mstats\u001b[39m::lag()\n",
      "── \u001b[1mAttaching packages\u001b[22m ────────────────────────────────────── tidymodels 1.0.0 ──\n",
      "\n",
      "\u001b[32m✔\u001b[39m \u001b[34mbroom       \u001b[39m 1.0.1     \u001b[32m✔\u001b[39m \u001b[34mrsample     \u001b[39m 1.1.0\n",
      "\u001b[32m✔\u001b[39m \u001b[34mdials       \u001b[39m 1.0.0     \u001b[32m✔\u001b[39m \u001b[34mtune        \u001b[39m 1.0.0\n",
      "\u001b[32m✔\u001b[39m \u001b[34minfer       \u001b[39m 1.0.3     \u001b[32m✔\u001b[39m \u001b[34mworkflows   \u001b[39m 1.0.0\n",
      "\u001b[32m✔\u001b[39m \u001b[34mmodeldata   \u001b[39m 1.0.1     \u001b[32m✔\u001b[39m \u001b[34mworkflowsets\u001b[39m 1.0.0\n",
      "\u001b[32m✔\u001b[39m \u001b[34mparsnip     \u001b[39m 1.0.1     \u001b[32m✔\u001b[39m \u001b[34myardstick   \u001b[39m 1.1.0\n",
      "\u001b[32m✔\u001b[39m \u001b[34mrecipes     \u001b[39m 1.0.1     \n",
      "\n",
      "── \u001b[1mConflicts\u001b[22m ───────────────────────────────────────── tidymodels_conflicts() ──\n",
      "\u001b[31m✖\u001b[39m \u001b[34mscales\u001b[39m::\u001b[32mdiscard()\u001b[39m masks \u001b[34mpurrr\u001b[39m::discard()\n",
      "\u001b[31m✖\u001b[39m \u001b[34mdplyr\u001b[39m::\u001b[32mfilter()\u001b[39m   masks \u001b[34mstats\u001b[39m::filter()\n",
      "\u001b[31m✖\u001b[39m \u001b[34mrecipes\u001b[39m::\u001b[32mfixed()\u001b[39m  masks \u001b[34mstringr\u001b[39m::fixed()\n",
      "\u001b[31m✖\u001b[39m \u001b[34mdplyr\u001b[39m::\u001b[32mlag()\u001b[39m      masks \u001b[34mstats\u001b[39m::lag()\n",
      "\u001b[31m✖\u001b[39m \u001b[34myardstick\u001b[39m::\u001b[32mspec()\u001b[39m masks \u001b[34mreadr\u001b[39m::spec()\n",
      "\u001b[31m✖\u001b[39m \u001b[34mrecipes\u001b[39m::\u001b[32mstep()\u001b[39m   masks \u001b[34mstats\u001b[39m::step()\n",
      "\u001b[34m•\u001b[39m Use suppressPackageStartupMessages() to eliminate package startup messages\n",
      "\n"
     ]
    }
   ],
   "source": [
    "# Loading all the required libraries\n",
    "library(tidyverse)\n",
    "library(repr)\n",
    "library(tidymodels)\n",
    "library(dplyr)\n",
    "library(patchwork)"
   ]
  },
  {
   "cell_type": "code",
   "execution_count": 3,
   "id": "c41021c6-1dcb-4fc0-a6ff-107ac44e57db",
   "metadata": {},
   "outputs": [
    {
     "name": "stderr",
     "output_type": "stream",
     "text": [
      "\u001b[1mRows: \u001b[22m\u001b[34m2487\u001b[39m \u001b[1mColumns: \u001b[22m\u001b[34m6\u001b[39m\n",
      "\u001b[36m──\u001b[39m \u001b[1mColumn specification\u001b[22m \u001b[36m────────────────────────────────────────────────────────\u001b[39m\n",
      "\u001b[1mDelimiter:\u001b[22m \",\"\n",
      "\u001b[31mchr\u001b[39m (4): LOCATION, COAST, SEASON, SEX\n",
      "\u001b[32mdbl\u001b[39m (2): WEIGHT, LENGTH\n",
      "\n",
      "\u001b[36mℹ\u001b[39m Use `spec()` to retrieve the full column specification for this data.\n",
      "\u001b[36mℹ\u001b[39m Specify the column types or set `show_col_types = FALSE` to quiet this message.\n"
     ]
    },
    {
     "data": {
      "text/html": [
       "<table class=\"dataframe\">\n",
       "<caption>A tibble: 6 × 6</caption>\n",
       "<thead>\n",
       "\t<tr><th scope=col>WEIGHT</th><th scope=col>LENGTH</th><th scope=col>LOCATION</th><th scope=col>COAST</th><th scope=col>SEASON</th><th scope=col>SEX</th></tr>\n",
       "\t<tr><th scope=col>&lt;dbl&gt;</th><th scope=col>&lt;dbl&gt;</th><th scope=col>&lt;fct&gt;</th><th scope=col>&lt;fct&gt;</th><th scope=col>&lt;fct&gt;</th><th scope=col>&lt;fct&gt;</th></tr>\n",
       "</thead>\n",
       "<tbody>\n",
       "\t<tr><td>262</td><td>38.9</td><td>MARAETAI</td><td>EAST</td><td>WINTER</td><td>MALE  </td></tr>\n",
       "\t<tr><td>300</td><td>41.3</td><td>MURIWAI </td><td>WEST</td><td>SUMMER</td><td>MALE  </td></tr>\n",
       "\t<tr><td>250</td><td>36.6</td><td>MURIWAI </td><td>WEST</td><td>WINTER</td><td>MALE  </td></tr>\n",
       "\t<tr><td>242</td><td>36.0</td><td>MARAETAI</td><td>EAST</td><td>WINTER</td><td>FEMALE</td></tr>\n",
       "\t<tr><td>261</td><td>37.1</td><td>MURIWAI </td><td>WEST</td><td>WINTER</td><td>MALE  </td></tr>\n",
       "\t<tr><td>262</td><td>38.2</td><td>MURIWAI </td><td>WEST</td><td>WINTER</td><td>MALE  </td></tr>\n",
       "</tbody>\n",
       "</table>\n"
      ],
      "text/latex": [
       "A tibble: 6 × 6\n",
       "\\begin{tabular}{llllll}\n",
       " WEIGHT & LENGTH & LOCATION & COAST & SEASON & SEX\\\\\n",
       " <dbl> & <dbl> & <fct> & <fct> & <fct> & <fct>\\\\\n",
       "\\hline\n",
       "\t 262 & 38.9 & MARAETAI & EAST & WINTER & MALE  \\\\\n",
       "\t 300 & 41.3 & MURIWAI  & WEST & SUMMER & MALE  \\\\\n",
       "\t 250 & 36.6 & MURIWAI  & WEST & WINTER & MALE  \\\\\n",
       "\t 242 & 36.0 & MARAETAI & EAST & WINTER & FEMALE\\\\\n",
       "\t 261 & 37.1 & MURIWAI  & WEST & WINTER & MALE  \\\\\n",
       "\t 262 & 38.2 & MURIWAI  & WEST & WINTER & MALE  \\\\\n",
       "\\end{tabular}\n"
      ],
      "text/markdown": [
       "\n",
       "A tibble: 6 × 6\n",
       "\n",
       "| WEIGHT &lt;dbl&gt; | LENGTH &lt;dbl&gt; | LOCATION &lt;fct&gt; | COAST &lt;fct&gt; | SEASON &lt;fct&gt; | SEX &lt;fct&gt; |\n",
       "|---|---|---|---|---|---|\n",
       "| 262 | 38.9 | MARAETAI | EAST | WINTER | MALE   |\n",
       "| 300 | 41.3 | MURIWAI  | WEST | SUMMER | MALE   |\n",
       "| 250 | 36.6 | MURIWAI  | WEST | WINTER | MALE   |\n",
       "| 242 | 36.0 | MARAETAI | EAST | WINTER | FEMALE |\n",
       "| 261 | 37.1 | MURIWAI  | WEST | WINTER | MALE   |\n",
       "| 262 | 38.2 | MURIWAI  | WEST | WINTER | MALE   |\n",
       "\n"
      ],
      "text/plain": [
       "  WEIGHT LENGTH LOCATION COAST SEASON SEX   \n",
       "1 262    38.9   MARAETAI EAST  WINTER MALE  \n",
       "2 300    41.3   MURIWAI  WEST  SUMMER MALE  \n",
       "3 250    36.6   MURIWAI  WEST  WINTER MALE  \n",
       "4 242    36.0   MARAETAI EAST  WINTER FEMALE\n",
       "5 261    37.1   MURIWAI  WEST  WINTER MALE  \n",
       "6 262    38.2   MURIWAI  WEST  WINTER MALE  "
      ]
     },
     "metadata": {},
     "output_type": "display_data"
    }
   ],
   "source": [
    "# Reading dataframe from the internet and storing it to a variable\n",
    "gulls <- read_csv(\"https://raw.githubusercontent.com/maggie63/stat-201-group-4/main/gulls_data.csv\") |>\n",
    "    mutate(LOCATION = as_factor(LOCATION), COAST = as_factor(COAST), SEASON = as_factor(SEASON), SEX = as_factor(SEX))\n",
    "\n",
    "# Printing the first few rows of the dataframe\n",
    "head(gulls)"
   ]
  },
  {
   "cell_type": "code",
   "execution_count": null,
   "id": "362c191a-ec54-4ba5-9770-6f413d189071",
   "metadata": {},
   "outputs": [],
   "source": []
  }
 ],
 "metadata": {
  "kernelspec": {
   "display_name": "R",
   "language": "R",
   "name": "ir"
  },
  "language_info": {
   "codemirror_mode": "r",
   "file_extension": ".r",
   "mimetype": "text/x-r-source",
   "name": "R",
   "pygments_lexer": "r",
   "version": "4.1.3"
  }
 },
 "nbformat": 4,
 "nbformat_minor": 5
}
