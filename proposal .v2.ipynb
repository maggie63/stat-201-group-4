{
  "cells": [
    {
      "cell_type": "markdown",
      "id": "2863d0b7-c41b-49a3-97c9-9007ab1815e0",
      "metadata": {
        "tags": [],
        "id": "2863d0b7-c41b-49a3-97c9-9007ab1815e0"
      },
      "source": [
        "# Project proposal"
      ]
    },
    {
      "cell_type": "markdown",
      "id": "8a774825-e71f-4bfe-9e9e-ca8d82ce17c2",
      "metadata": {
        "id": "8a774825-e71f-4bfe-9e9e-ca8d82ce17c2"
      },
      "source": [
        "## Seasonal Effects on Female Red-Billed Gull Weight in New Zealand.\n",
        "\n",
        "### Introduction:\n",
        "The red-billed gull is the most common gull on the New Zealand coast. It is frequently seen in coastal towns, garbage dumps, and at fish processing facilities. Our research question is about finding the differences in means of the weights of the female red-billed gull based on the two season climates. We think that the primary and underlying cause of the weight variations within a year for the red-billed gulls lies in the seasonal effects that bring about change in various aspects of their habits.\n",
        "\n",
        "Some seasonal effects include:\n",
        "- An extremely long egg-laying period that can extend from mid-September to January.\n",
        "\n",
        "- The main food at the largest colonies is the euphausiid Nyctiphanes australis (krill) which occurs more abundantly within the spring season and early summer.\n",
        "\n",
        "- At Kaikoura during the breeding season adult gulls can sustain themselves on alternative foods such as earthworms, small fish, garbage and kelp flies, but they are dependent upon an abundant and regular supply of the surface-swarming krill for successful breeding. Outside of the breeding season the diet is highly variable. Some still feed at sea; others feed on small invertebrates along the shore, or from human sources such as handouts in towns or cities, offal being discarded from fishing boats and garbage at rubbish dumps.\n",
        "<br>"
      ]
    },
    {
      "cell_type": "markdown",
      "id": "72ab3e73-7d27-4ba6-a597-f9b994f076ac",
      "metadata": {
        "id": "72ab3e73-7d27-4ba6-a597-f9b994f076ac"
      },
      "source": [
        "Before conducting a hypothesis test, we will calculate preliminary results to understand the distribution of the population and the difference in means in different seasons. In this section, we will use  the dataset to compute estimates of the means of weight of female gulls in summer and winter and find their differences. Normality assumption is important for deciding the measures of central tendency and other statistical methods for data analysis, so we will visualize the distributions as well.\n",
        "\n",
        "### Preliminary results:"
      ]
    },
    {
      "cell_type": "code",
      "execution_count": 16,
      "id": "e54d8798-a546-4aaa-936a-aaffda3281bc",
      "metadata": {
        "tags": [],
        "id": "e54d8798-a546-4aaa-936a-aaffda3281bc"
      },
      "outputs": [],
      "source": [
        "# Loading all the required libraries\n",
        "library(tidyverse)\n",
        "# library(cowplot)\n",
        "# library(datateachr)\n",
        "# library(digest)\n",
        "# library(infer)\n",
        "# library(repr)\n",
        "# library(taxyvr)\n"
      ]
    },
    {
      "cell_type": "code",
      "execution_count": 17,
      "id": "c41021c6-1dcb-4fc0-a6ff-107ac44e57db",
      "metadata": {
        "colab": {
          "base_uri": "https://localhost:8080/",
          "height": 425
        },
        "id": "c41021c6-1dcb-4fc0-a6ff-107ac44e57db",
        "outputId": "1a838e71-619b-463d-9c2a-0a9ced50d5e4"
      },
      "outputs": [
        {
          "output_type": "stream",
          "name": "stderr",
          "text": [
            "\u001b[1mRows: \u001b[22m\u001b[34m2487\u001b[39m \u001b[1mColumns: \u001b[22m\u001b[34m6\u001b[39m\n",
            "\u001b[36m──\u001b[39m \u001b[1mColumn specification\u001b[22m \u001b[36m────────────────────────────────────────────────────────\u001b[39m\n",
            "\u001b[1mDelimiter:\u001b[22m \",\"\n",
            "\u001b[31mchr\u001b[39m (4): LOCATION, COAST, SEASON, SEX\n",
            "\u001b[32mdbl\u001b[39m (2): WEIGHT, LENGTH\n",
            "\n",
            "\u001b[36mℹ\u001b[39m Use `spec()` to retrieve the full column specification for this data.\n",
            "\u001b[36mℹ\u001b[39m Specify the column types or set `show_col_types = FALSE` to quiet this message.\n"
          ]
        },
        {
          "output_type": "display_data",
          "data": {
            "text/html": [
              "<table class=\"dataframe\">\n",
              "<caption>A tibble: 6 × 6</caption>\n",
              "<thead>\n",
              "\t<tr><th scope=col>WEIGHT</th><th scope=col>LENGTH</th><th scope=col>LOCATION</th><th scope=col>COAST</th><th scope=col>SEASON</th><th scope=col>SEX</th></tr>\n",
              "\t<tr><th scope=col>&lt;dbl&gt;</th><th scope=col>&lt;dbl&gt;</th><th scope=col>&lt;fct&gt;</th><th scope=col>&lt;fct&gt;</th><th scope=col>&lt;fct&gt;</th><th scope=col>&lt;fct&gt;</th></tr>\n",
              "</thead>\n",
              "<tbody>\n",
              "\t<tr><td>262</td><td>38.9</td><td>MARAETAI</td><td>EAST</td><td>WINTER</td><td>MALE  </td></tr>\n",
              "\t<tr><td>300</td><td>41.3</td><td>MURIWAI </td><td>WEST</td><td>SUMMER</td><td>MALE  </td></tr>\n",
              "\t<tr><td>250</td><td>36.6</td><td>MURIWAI </td><td>WEST</td><td>WINTER</td><td>MALE  </td></tr>\n",
              "\t<tr><td>242</td><td>36.0</td><td>MARAETAI</td><td>EAST</td><td>WINTER</td><td>FEMALE</td></tr>\n",
              "\t<tr><td>261</td><td>37.1</td><td>MURIWAI </td><td>WEST</td><td>WINTER</td><td>MALE  </td></tr>\n",
              "\t<tr><td>262</td><td>38.2</td><td>MURIWAI </td><td>WEST</td><td>WINTER</td><td>MALE  </td></tr>\n",
              "</tbody>\n",
              "</table>\n"
            ],
            "text/markdown": "\nA tibble: 6 × 6\n\n| WEIGHT &lt;dbl&gt; | LENGTH &lt;dbl&gt; | LOCATION &lt;fct&gt; | COAST &lt;fct&gt; | SEASON &lt;fct&gt; | SEX &lt;fct&gt; |\n|---|---|---|---|---|---|\n| 262 | 38.9 | MARAETAI | EAST | WINTER | MALE   |\n| 300 | 41.3 | MURIWAI  | WEST | SUMMER | MALE   |\n| 250 | 36.6 | MURIWAI  | WEST | WINTER | MALE   |\n| 242 | 36.0 | MARAETAI | EAST | WINTER | FEMALE |\n| 261 | 37.1 | MURIWAI  | WEST | WINTER | MALE   |\n| 262 | 38.2 | MURIWAI  | WEST | WINTER | MALE   |\n\n",
            "text/latex": "A tibble: 6 × 6\n\\begin{tabular}{llllll}\n WEIGHT & LENGTH & LOCATION & COAST & SEASON & SEX\\\\\n <dbl> & <dbl> & <fct> & <fct> & <fct> & <fct>\\\\\n\\hline\n\t 262 & 38.9 & MARAETAI & EAST & WINTER & MALE  \\\\\n\t 300 & 41.3 & MURIWAI  & WEST & SUMMER & MALE  \\\\\n\t 250 & 36.6 & MURIWAI  & WEST & WINTER & MALE  \\\\\n\t 242 & 36.0 & MARAETAI & EAST & WINTER & FEMALE\\\\\n\t 261 & 37.1 & MURIWAI  & WEST & WINTER & MALE  \\\\\n\t 262 & 38.2 & MURIWAI  & WEST & WINTER & MALE  \\\\\n\\end{tabular}\n",
            "text/plain": [
              "  WEIGHT LENGTH LOCATION COAST SEASON SEX   \n",
              "1 262    38.9   MARAETAI EAST  WINTER MALE  \n",
              "2 300    41.3   MURIWAI  WEST  SUMMER MALE  \n",
              "3 250    36.6   MURIWAI  WEST  WINTER MALE  \n",
              "4 242    36.0   MARAETAI EAST  WINTER FEMALE\n",
              "5 261    37.1   MURIWAI  WEST  WINTER MALE  \n",
              "6 262    38.2   MURIWAI  WEST  WINTER MALE  "
            ]
          },
          "metadata": {}
        }
      ],
      "source": [
        "# Reading dataframe from the internet and storing it to a variable\n",
        "gulls <- read_csv(\"https://raw.githubusercontent.com/maggie63/stat-201-group-4/main/gulls_data.csv\") |>\n",
        "    mutate(LOCATION = as_factor(LOCATION), COAST = as_factor(COAST), SEASON = as_factor(SEASON), SEX = as_factor(SEX)) |>\n",
        "    filter((!is.na(WEIGHT)))\n",
        "# Printing the first few rows of the dataframe\n",
        "head(gulls)"
      ]
    },
    {
      "cell_type": "markdown",
      "id": "d80382c2-f0d4-438f-9806-3e4430432e30",
      "metadata": {
        "id": "d80382c2-f0d4-438f-9806-3e4430432e30"
      },
      "source": [
        "We will check whether the seasons are represented similarly/equally and the number of samples is more than 30 per season."
      ]
    },
    {
      "cell_type": "code",
      "execution_count": 18,
      "id": "362c191a-ec54-4ba5-9770-6f413d189071",
      "metadata": {
        "colab": {
          "base_uri": "https://localhost:8080/",
          "height": 161
        },
        "id": "362c191a-ec54-4ba5-9770-6f413d189071",
        "outputId": "3f1bfa80-e30d-4dd1-d132-0d0108cfba04"
      },
      "outputs": [
        {
          "output_type": "display_data",
          "data": {
            "text/html": [
              "<table class=\"dataframe\">\n",
              "<caption>A tibble: 2 × 2</caption>\n",
              "<thead>\n",
              "\t<tr><th scope=col>SEASON</th><th scope=col>n</th></tr>\n",
              "\t<tr><th scope=col>&lt;fct&gt;</th><th scope=col>&lt;int&gt;</th></tr>\n",
              "</thead>\n",
              "<tbody>\n",
              "\t<tr><td>WINTER</td><td>615</td></tr>\n",
              "\t<tr><td>SUMMER</td><td>665</td></tr>\n",
              "</tbody>\n",
              "</table>\n"
            ],
            "text/markdown": "\nA tibble: 2 × 2\n\n| SEASON &lt;fct&gt; | n &lt;int&gt; |\n|---|---|\n| WINTER | 615 |\n| SUMMER | 665 |\n\n",
            "text/latex": "A tibble: 2 × 2\n\\begin{tabular}{ll}\n SEASON & n\\\\\n <fct> & <int>\\\\\n\\hline\n\t WINTER & 615\\\\\n\t SUMMER & 665\\\\\n\\end{tabular}\n",
            "text/plain": [
              "  SEASON n  \n",
              "1 WINTER 615\n",
              "2 SUMMER 665"
            ]
          },
          "metadata": {}
        }
      ],
      "source": [
        "# Group data to see if the categorical variables are representated properly\n",
        "n_obs<- gulls |>\n",
        "    select(-LENGTH) |>\n",
        "    filter(SEX == \"FEMALE\" ) |>\n",
        "    group_by(SEASON) |>\n",
        "    summarise(n = n())\n",
        "n_obs"
      ]
    },
    {
      "cell_type": "markdown",
      "id": "5fbee60c-9a1a-438b-a27e-0f0e9acbee76",
      "metadata": {
        "id": "5fbee60c-9a1a-438b-a27e-0f0e9acbee76"
      },
      "source": [
        "Since the population is representated properly in the sample, we can move on with rest of the preliminary analysis.\n",
        "\n",
        "##### Summary of sample mean and standard error for each season:"
      ]
    },
    {
      "cell_type": "code",
      "execution_count": 19,
      "id": "927e4abe-e5dd-453e-8625-20e456db0e5a",
      "metadata": {
        "colab": {
          "base_uri": "https://localhost:8080/",
          "height": 161
        },
        "id": "927e4abe-e5dd-453e-8625-20e456db0e5a",
        "outputId": "90c8e080-1376-4413-d122-6925fa5c40bb"
      },
      "outputs": [
        {
          "output_type": "display_data",
          "data": {
            "text/html": [
              "<table class=\"dataframe\">\n",
              "<caption>A tibble: 2 × 4</caption>\n",
              "<thead>\n",
              "\t<tr><th scope=col>SEASON</th><th scope=col>n</th><th scope=col>sample_mean</th><th scope=col>sample_std_error</th></tr>\n",
              "\t<tr><th scope=col>&lt;fct&gt;</th><th scope=col>&lt;int&gt;</th><th scope=col>&lt;dbl&gt;</th><th scope=col>&lt;dbl&gt;</th></tr>\n",
              "</thead>\n",
              "<tbody>\n",
              "\t<tr><td>WINTER</td><td>615</td><td>253.5252</td><td>0.4220535</td></tr>\n",
              "\t<tr><td>SUMMER</td><td>665</td><td>270.7729</td><td>0.4043504</td></tr>\n",
              "</tbody>\n",
              "</table>\n"
            ],
            "text/markdown": "\nA tibble: 2 × 4\n\n| SEASON &lt;fct&gt; | n &lt;int&gt; | sample_mean &lt;dbl&gt; | sample_std_error &lt;dbl&gt; |\n|---|---|---|---|\n| WINTER | 615 | 253.5252 | 0.4220535 |\n| SUMMER | 665 | 270.7729 | 0.4043504 |\n\n",
            "text/latex": "A tibble: 2 × 4\n\\begin{tabular}{llll}\n SEASON & n & sample\\_mean & sample\\_std\\_error\\\\\n <fct> & <int> & <dbl> & <dbl>\\\\\n\\hline\n\t WINTER & 615 & 253.5252 & 0.4220535\\\\\n\t SUMMER & 665 & 270.7729 & 0.4043504\\\\\n\\end{tabular}\n",
            "text/plain": [
              "  SEASON n   sample_mean sample_std_error\n",
              "1 WINTER 615 253.5252    0.4220535       \n",
              "2 SUMMER 665 270.7729    0.4043504       "
            ]
          },
          "metadata": {}
        }
      ],
      "source": [
        "# Filtering and calculating the sample mean and standard error\n",
        "gull_seasons <- gulls |>\n",
        "    filter(SEX == \"FEMALE\" ) |>\n",
        "    select(WEIGHT, SEASON) |>\n",
        "    group_by(SEASON)\n",
        "\n",
        "# Calculating the sample mean and standard error\n",
        "gull_summary <- gull_seasons |>\n",
        "    summarise(n = n(),\n",
        "              sample_mean = mean(WEIGHT),\n",
        "              sample_std_error = sd(WEIGHT) / sqrt(n))\n",
        "gull_summary"
      ]
    },
    {
      "cell_type": "markdown",
      "id": "dec8a60c-abb2-4565-b736-b5e9402e90ec",
      "metadata": {
        "id": "dec8a60c-abb2-4565-b736-b5e9402e90ec"
      },
      "source": [
        "##### Sample distribution of female gulls in summer vs. winter:"
      ]
    },
    {
      "cell_type": "code",
      "execution_count": 20,
      "id": "286240b7-3640-4a10-8ba7-7b4b51f515eb",
      "metadata": {
        "colab": {
          "base_uri": "https://localhost:8080/",
          "height": 437
        },
        "id": "286240b7-3640-4a10-8ba7-7b4b51f515eb",
        "outputId": "ef47ea7a-db9f-4d97-e8a7-743cd1b71352"
      },
      "outputs": [
        {
          "output_type": "display_data",
          "data": {
            "text/plain": [
              "plot without title"
            ],
            "image/png": "[encoded data removed]"
          },
          "metadata": {
            "image/png": {
              "width": 420,
              "height": 420
            }
          }
        }
      ],
      "source": [
        "# Plotting sample distribution in summer vs. winter\n",
        "gull_pop_dist <- gull_seasons |>\n",
        "    ggplot() +\n",
        "    geom_histogram(aes(x = WEIGHT), binwidth = 5, color = 'white') +\n",
        "    facet_wrap(~ SEASON) +\n",
        "    labs(x = \"Weight\", title = \"Sample distribution of gull weight in summer vs. winter\") +\n",
        "    theme(text = element_text(size = 15))\n",
        "gull_pop_dist"
      ]
    },
    {
      "cell_type": "markdown",
      "id": "532e8169-c81a-49e5-80cb-4d86d69c371d",
      "metadata": {
        "id": "532e8169-c81a-49e5-80cb-4d86d69c371d"
      },
      "source": [
        "\n",
        "##### Box plot to compare weight of gull in summer vs. winter:"
      ]
    },
    {
      "cell_type": "code",
      "execution_count": 21,
      "id": "60045ac3-4534-4d25-86b6-4476d6be3bac",
      "metadata": {
        "colab": {
          "base_uri": "https://localhost:8080/",
          "height": 437
        },
        "id": "60045ac3-4534-4d25-86b6-4476d6be3bac",
        "outputId": "821734a6-9921-4a20-cd1d-c76c953f54ad"
      },
      "outputs": [
        {
          "output_type": "display_data",
          "data": {
            "text/plain": [
              "plot without title"
            ],
            "image/png": "[encoded data removed]"
          },
          "metadata": {
            "image/png": {
              "width": 420,
              "height": 420
            }
          }
        }
      ],
      "source": [
        "winter_summer__boxplots <-\n",
        "    gull_seasons %>%\n",
        "    ggplot() +\n",
        "    geom_boxplot(aes(x = SEASON, y = WEIGHT, fill = SEASON)) +\n",
        "    ggtitle(\"Box plot of weight of Female Red-billed gull by season\") +\n",
        "    xlab(\"Season\") +\n",
        "    ylab(\"Weight\") +\n",
        "    guides(fill = \"none\")\n",
        "winter_summer__boxplots"
      ]
    },
    {
      "cell_type": "markdown",
      "id": "1c451491-85ab-485b-b4d3-91ad999616e3",
      "metadata": {
        "id": "1c451491-85ab-485b-b4d3-91ad999616e3"
      },
      "source": [
        "From the plots,\n",
        "- the distributions are unimodal, symmetric, and bell-shaped meaning it is a normal distribution.\n",
        "- the center of the winter distribution lie near 250 while the center of summer distribution lie near 275.\n",
        "- the distributions have similar spread.\n",
        "\n",
        "<br>"
      ]
    },
    {
      "cell_type": "markdown",
      "id": "b723a947-619a-42cf-b9cb-75763ed5f597",
      "metadata": {
        "id": "b723a947-619a-42cf-b9cb-75763ed5f597"
      },
      "source": [
        "### Methods: Plan\n",
        "\n",
        "The data used in the analysis is clearly stated, indicating transparency in data sources and collection methods. Moreover, the sample distribution is normal meaning the population distribution is also normal. This adds to the credibility of the report, as it suggests that normality assumptions are met. Normality assumption is important for deciding the measures of central tendency and other statistical methods for data analysis. As mentioned at the beginning of the proposal, we expect to find the observed difference between the means of female gulls per season is statistically significant.\n",
        "\n",
        "Although we have calculated sample means and standard errors for the winter and summer seasons in the preliminary results, these estimates are insufficient to draw a conclusion. Considering the variation of weight for each season, is the observed difference statistically significant? Therefore, we will perform a two-sample t-test to compare the means of the two independent samples of weight (winter and summer) to determine any significant difference between the means of the two weight groups. We carry out a t-test instead of a z-test since the population standard deviation is unknown. The t-test is more reliable in situations where the population parameters are unknown.\n",
        "For this project, the scenarios to be considered:\n",
        "\n",
        "- Null hypothesis ($H_0$): <br>\n",
        "   > $H_0: \\mu_1 - \\mu_2 = 0$.\n",
        "\n",
        "- Alternative hypothesis ($H_1$): <br>\n",
        "   > $H_1: \\mu_1 - \\mu_2 \\neq 0$.\n",
        "    \n",
        "\n",
        "\n",
        "In addition to the hypothesis test, we calculate a 95% confidence interval for the difference in sample means ($\\mu_1 - \\mu_2$). This will help understand how good the estimate is and is the best guess of an interval that contains the population parameter.\n",
        "\n",
        "The results of this analysis could lead to several future questions and investigations, such as:\n",
        "- What are the driving factors behind the observed differences between the weight in winter and summer in gulls?\n",
        "- How do other variables (e.g., demographic factors, location, etc.) influence seasonal weight change in gulls?\n",
        "- Are there any trends or long-term patterns influencing the weight of gulls in different seasons that need to be considered?\n",
        "- How can global phenomena, such as climate change, impact the change in the weight of gulls in different seasons?\n",
        "\n",
        "<br>"
      ]
    },
    {
      "cell_type": "markdown",
      "id": "7b8c6ec5-712b-4458-9743-1013622a33c9",
      "metadata": {
        "id": "7b8c6ec5-712b-4458-9743-1013622a33c9"
      },
      "source": [
        "### References:\n",
        "\n",
        "- Dataset. NZGRAPHER. (n.d.). https://grapher.jake4maths.com/?folder=sneddon&amp;dataset=GULLS.csv\n",
        "\n",
        "- Red-billed gull: Tarāpunga: New Zealand Birds Online. New Zealand Birds Online - The digital encyclopaedia of New Zealand birds. (n.d.). https://nzbirdsonline.org.nz/species/red-billed-gull\n",
        "\n",
        "- GULLS.CSV information. Inference. (n.d.). https://sites.google.com/view/inference/data-sets#h.p_IlT79LKK_MeP"
      ]
    }
  ],
  "metadata": {
    "kernelspec": {
      "display_name": "R",
      "language": "R",
      "name": "ir"
    },
    "language_info": {
      "codemirror_mode": "r",
      "file_extension": ".r",
      "mimetype": "text/x-r-source",
      "name": "R",
      "pygments_lexer": "r",
      "version": "4.1.3"
    },
    "colab": {
      "provenance": []
    }
  },
  "nbformat": 4,
  "nbformat_minor": 5
}
